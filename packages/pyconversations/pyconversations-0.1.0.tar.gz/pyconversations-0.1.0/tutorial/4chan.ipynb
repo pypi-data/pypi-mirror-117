{
 "cells": [
  {
   "cell_type": "markdown",
   "id": "invalid-drawing",
   "metadata": {},
   "source": [
    "# PyConversations: A 4chan-based Example\n",
    "\n",
    "The following is a tutorial notebook that demonstrates how to use `pyconversations` with 4chan data.\n",
    "\n",
    "Interfacing with 4chan data _does not_ require any secret keys or tokens or anyting of that nature. Instead, we'll directly use a package called `BASC-py4chan` which provides [an object-oriented interface](https://basc-py4chan.readthedocs.io/en/latest/index.html) for interacting with the 4chan API. \n",
    "\n",
    "To begin, let's obtain some data using the package and then proceed by integrating the data with PyConversations!"
   ]
  },
  {
   "cell_type": "code",
   "execution_count": 1,
   "id": "municipal-arrest",
   "metadata": {},
   "outputs": [],
   "source": [
    "from pprint import pprint\n",
    "\n",
    "from pyconversations.convo import Conversation\n",
    "from pyconversations.message import ChanPost"
   ]
  },
  {
   "cell_type": "markdown",
   "id": "fatty-scroll",
   "metadata": {},
   "source": [
    "## Data Sample"
   ]
  },
  {
   "cell_type": "code",
   "execution_count": 2,
   "id": "handy-nudist",
   "metadata": {},
   "outputs": [],
   "source": [
    "import basc_py4chan"
   ]
  },
  {
   "cell_type": "code",
   "execution_count": 3,
   "id": "revolutionary-concentrate",
   "metadata": {},
   "outputs": [
    {
     "data": {
      "text/plain": [
       "<Board /news/>"
      ]
     },
     "execution_count": 3,
     "metadata": {},
     "output_type": "execute_result"
    }
   ],
   "source": [
    "# get the board we want\n",
    "board_name = 'news'\n",
    "\n",
    "board = basc_py4chan.Board(board_name)\n",
    "board"
   ]
  },
  {
   "cell_type": "code",
   "execution_count": 6,
   "id": "nearby-impossible",
   "metadata": {},
   "outputs": [
    {
     "data": {
      "text/plain": [
       "(904494, <Thread /news/904494, 51 replies>)"
      ]
     },
     "execution_count": 6,
     "metadata": {},
     "output_type": "execute_result"
    }
   ],
   "source": [
    "# select a thread on the board\n",
    "\n",
    "ix = 2\n",
    "all_thread_ids = board.get_all_thread_ids()\n",
    "thread_id = all_thread_ids[ix] if ix < len(all_thread_ids) else all_thread_ids[-1]\n",
    "thread = board.get_thread(thread_id)\n",
    "\n",
    "thread_id, thread"
   ]
  },
  {
   "cell_type": "code",
   "execution_count": 7,
   "id": "actual-swing",
   "metadata": {},
   "outputs": [
    {
     "name": "stdout",
     "output_type": "stream",
     "text": [
      "<Thread /news/904494, 51 replies>\n",
      "Sticky? False\n",
      "Closed? False\n",
      "Replies: 51\n"
     ]
    }
   ],
   "source": [
    "# print thread information\n",
    "print(thread)\n",
    "print('Sticky?', thread.sticky)\n",
    "print('Closed?', thread.closed)\n",
    "print('Replies:', len(thread.replies))"
   ]
  },
  {
   "cell_type": "code",
   "execution_count": 8,
   "id": "warming-madison",
   "metadata": {},
   "outputs": [
    {
     "name": "stdout",
     "output_type": "stream",
     "text": [
      "Topic Repr <Post /news/904494#904494, has_file: True>\n",
      "Postnumber 904494\n",
      "Timestamp 1628458133\n",
      "Datetime datetime.datetime(2021, 8, 8, 17, 28, 53)\n",
      "Subject Trump and the RNC forced to return over $12.8 million that they stole from supporters in 2021\n",
      "Comment And his cult will still support him even as he just steals their money outright.<br><br>https://www.nytimes.com/2021/08/07/us/politics/trump-recurring-donations.html<br><br>The aggressive fund-raising tactics that former President Donald J. Trump deployed late in last year’s presidential campaign have continued to spur an avalanche of refunds into 2021, with Mr. Trump, the Republican Party and their shared accounts returning $12.8 million to donors in the first six months of the year, newly released federal records show.<br>The refunds were some of the biggest outlays that Mr. Trump made in 2021 as he has built up his $102 million political war chest — and amounted to roughly 20 percent of the $56 million he and his committees raised online so far this year.<br>Trailing in the polls and facing a cash crunch last September, Mr. Trump’s political operation began opting online donors into automatic recurring contributions by prechecking a box on its digital donation forms to take a withdrawal every week. Donors would have to notice the box and uncheck it to opt out of the donation. A second prechecked box took out another donation, known as a “money bomb.”<br>The Trump team then obscured that fact by burying the fine print beneath multiple lines of bold and capitalized text, a New York Times investigation earlier this year found.<br>The maneuver spiked revenues in the short term — allowing Mr. Trump to spend money before the election — and then caused a cascade of fraud complaints to credit cards and demands for refunds from supporters. The refunded donations amounted to an unwitting interest-free loan from Mr. Trump’s supporters in the weeks when he most needed it.\n"
     ]
    }
   ],
   "source": [
    "# print topic post information\n",
    "topic = thread.topic\n",
    "print('Topic Repr', topic)\n",
    "print('Postnumber', topic.post_number)\n",
    "print('Timestamp', topic.timestamp)\n",
    "print('Datetime', repr(topic.datetime))\n",
    "print('Subject', topic.subject)\n",
    "print('Comment', topic.comment)"
   ]
  },
  {
   "cell_type": "code",
   "execution_count": 9,
   "id": "typical-distinction",
   "metadata": {},
   "outputs": [
    {
     "data": {
      "text/plain": [
       "52"
      ]
     },
     "execution_count": 9,
     "metadata": {},
     "output_type": "execute_result"
    }
   ],
   "source": [
    "len(thread.all_posts)"
   ]
  },
  {
   "cell_type": "markdown",
   "id": "equivalent-logistics",
   "metadata": {},
   "source": [
    "## Integration with `pyconversations`\n",
    "\n",
    "All that's left to do is plug our data directly into `pyconversations`!"
   ]
  },
  {
   "cell_type": "code",
   "execution_count": 10,
   "id": "selected-pricing",
   "metadata": {},
   "outputs": [],
   "source": [
    "# create conversation\n",
    "conv = Conversation()"
   ]
  },
  {
   "cell_type": "code",
   "execution_count": 11,
   "id": "concerned-target",
   "metadata": {},
   "outputs": [],
   "source": [
    "for post in thread.all_posts:\n",
    "    \n",
    "    # gather up raw text\n",
    "    raw_text = ((post.subject + ':\\n' if post.subject else '') + post.text_comment).strip()\n",
    "    \n",
    "    # cleanse text and retrieve references to other posts\n",
    "    text, rfs = ChanPost.clean_text(raw_text)\n",
    "    if not rfs and topic.post_number != post.post_id:\n",
    "        rfs = [topic.post_number]\n",
    "        \n",
    "    rfs = list(map(int, rfs))\n",
    "    \n",
    "    # create data for the post constructor\n",
    "    cons = {\n",
    "        'uid':        post.post_id,  # unique identifier for the post (mandatory field)\n",
    "        'created_at': post.datetime,  # datetime of post creation\n",
    "        'text':       text,  # cleaned plaintext\n",
    "        'author':     post.name,  # self-assigned name of the poster (likely 'Anonymous')\n",
    "        'reply_to':   rfs,  # cleaned references to other posts\n",
    "        'lang_detect': True  # whether or not to attempt language detection\n",
    "    }\n",
    "    conv.add_post(ChanPost(**cons))"
   ]
  },
  {
   "cell_type": "code",
   "execution_count": 12,
   "id": "received-supplement",
   "metadata": {},
   "outputs": [
    {
     "data": {
      "text/plain": [
       "52"
      ]
     },
     "execution_count": 12,
     "metadata": {},
     "output_type": "execute_result"
    }
   ],
   "source": [
    "# print number of unique posts contained within the Conversation\n",
    "len(conv.posts)"
   ]
  },
  {
   "cell_type": "code",
   "execution_count": 13,
   "id": "artificial-customer",
   "metadata": {},
   "outputs": [
    {
     "data": {
      "text/plain": [
       "[(904494,\n",
       "  4chanPost(4chan::Anonymous::2021-08-08 17:28:53::Trump and the RNC forced to return over $12.8 mill::tags=)),\n",
       " (904495,\n",
       "  4chanPost(4chan::Anonymous::2021-08-08 17:29:16::New Federal Election Commission records from WinRe::tags=)),\n",
       " (904499,\n",
       "  4chanPost(4chan::Anonymous::2021-08-08 17:30:17::The Federal Election Commission has since unanimou::tags=)),\n",
       " (904500,\n",
       "  4chanPost(4chan::Anonymous::2021-08-08 17:31:18::WinRed said there was simply a greater volume of r::tags=)),\n",
       " (904521,\n",
       "  4chanPost(4chan::Anonymous::2021-08-08 17:49:27::Can't wait for the MAGAt tears about this.::tags=))]"
      ]
     },
     "execution_count": 13,
     "metadata": {},
     "output_type": "execute_result"
    }
   ],
   "source": [
    "list(conv.posts.items())[:5]"
   ]
  },
  {
   "cell_type": "code",
   "execution_count": 14,
   "id": "stunning-cache",
   "metadata": {},
   "outputs": [
    {
     "data": {
      "text/plain": [
       "1"
      ]
     },
     "execution_count": 14,
     "metadata": {},
     "output_type": "execute_result"
    }
   ],
   "source": [
    "# Conversations can be sub-segmented (if we have a large collection and are uncertain if posts are missing or would like to splice out disjoint trees)\n",
    "# This is likely to return a single conversation (a copy of what we built) since we just queried a single thread directly using the API \n",
    "# This is more relevant when ingesting a heterogenous collection of posts\n",
    "segs = conv.segment()\n",
    "\n",
    "len(segs)"
   ]
  },
  {
   "cell_type": "markdown",
   "id": "interesting-capability",
   "metadata": {},
   "source": [
    "### (Detected) Language Distribution"
   ]
  },
  {
   "cell_type": "code",
   "execution_count": 15,
   "id": "civic-decrease",
   "metadata": {},
   "outputs": [
    {
     "data": {
      "text/plain": [
       "Counter({'en': 44, 'da': 1, 'fr': 1, 'und': 6})"
      ]
     },
     "execution_count": 15,
     "metadata": {},
     "output_type": "execute_result"
    }
   ],
   "source": [
    "from collections import Counter\n",
    "\n",
    "lang_dist = Counter([post.lang for post in conv.posts.values()])\n",
    "lang_dist"
   ]
  },
  {
   "cell_type": "markdown",
   "id": "conventional-netscape",
   "metadata": {},
   "source": [
    "### Saving and Loading from the universal format"
   ]
  },
  {
   "cell_type": "code",
   "execution_count": 17,
   "id": "limiting-indonesia",
   "metadata": {},
   "outputs": [],
   "source": [
    "import json"
   ]
  },
  {
   "cell_type": "code",
   "execution_count": 18,
   "id": "wrong-dividend",
   "metadata": {},
   "outputs": [],
   "source": [
    "# saving a conversation to disk\n",
    "# alternatively: save as a JSONLine file, where each line is a conversation!\n",
    "j = conv.to_json()\n",
    "json.dump(j, open('4chan_conv.json', 'w+'))"
   ]
  },
  {
   "cell_type": "code",
   "execution_count": 19,
   "id": "incident-review",
   "metadata": {},
   "outputs": [
    {
     "data": {
      "text/plain": [
       "52"
      ]
     },
     "execution_count": 19,
     "metadata": {},
     "output_type": "execute_result"
    }
   ],
   "source": [
    "# reloading directly from the JSON\n",
    "conv_reloaded = Conversation.from_json(json.load(open('4chan_conv.json')))\n",
    "len(conv_reloaded.posts)"
   ]
  },
  {
   "cell_type": "markdown",
   "id": "military-recall",
   "metadata": {},
   "source": [
    "### Feature Extraction\n",
    "\n",
    "The remainder of this notebook exhibits some basic vectorization of features from conversations, posts, and users within this conversation. \n",
    "For more information, see the documentation for PyConversations."
   ]
  },
  {
   "cell_type": "code",
   "execution_count": 20,
   "id": "premium-girlfriend",
   "metadata": {},
   "outputs": [],
   "source": [
    "from pyconversations.feature_extraction import ConversationVectorizer\n",
    "from pyconversations.feature_extraction import PostVectorizer\n",
    "from pyconversations.feature_extraction import UserVectorizer"
   ]
  },
  {
   "cell_type": "code",
   "execution_count": 21,
   "id": "educated-surfing",
   "metadata": {},
   "outputs": [],
   "source": [
    "convs = True\n",
    "# convs = False\n",
    "\n",
    "users = True\n",
    "# users = False\n",
    "\n",
    "posts = True\n",
    "# posts = False\n",
    "\n",
    "# normalization = None\n",
    "# normalization = 'minmax'\n",
    "# normalization = 'mean'\n",
    "normalization = 'standard'\n",
    "\n",
    "# cv = ConversationVectorizer(normalization=normalization, agg_user_fts=users, agg_post_fts=posts, include_source_user=True)\n",
    "pv = PostVectorizer(normalization=normalization, include_conversation=convs, include_user=users)\n",
    "# uv = UserVectorizer(normalization=normalization, agg_post_fts=posts)"
   ]
  },
  {
   "cell_type": "code",
   "execution_count": 22,
   "id": "manufactured-preview",
   "metadata": {},
   "outputs": [
    {
     "data": {
      "text/plain": [
       "<pyconversations.feature_extraction.extractors.PostVectorizer at 0x1203ba9d0>"
      ]
     },
     "execution_count": 22,
     "metadata": {},
     "output_type": "execute_result"
    }
   ],
   "source": [
    "# cv.fit(conv=conv_reloaded)\n",
    "pv.fit(conv=conv_reloaded)\n",
    "# uv.fit(conv=conv_reloaded)"
   ]
  },
  {
   "cell_type": "code",
   "execution_count": 23,
   "id": "chief-hydrogen",
   "metadata": {},
   "outputs": [
    {
     "name": "stdout",
     "output_type": "stream",
     "text": [
      "(52, 3317)\n"
     ]
    }
   ],
   "source": [
    "# cxs = cv.transform(conv=conv_reloaded)\n",
    "pxs = pv.transform(conv=conv_reloaded)\n",
    "# uxs = uv.transform(conv=conv_reloaded)\n",
    "\n",
    "# pprint(cxs.shape)\n",
    "pprint(pxs.shape)\n",
    "# pprint(uxs.shape)"
   ]
  }
 ],
 "metadata": {
  "kernelspec": {
   "display_name": "Python 3",
   "language": "python",
   "name": "python3"
  },
  "language_info": {
   "codemirror_mode": {
    "name": "ipython",
    "version": 3
   },
   "file_extension": ".py",
   "mimetype": "text/x-python",
   "name": "python",
   "nbconvert_exporter": "python",
   "pygments_lexer": "ipython3",
   "version": "3.7.6"
  }
 },
 "nbformat": 4,
 "nbformat_minor": 5
}
