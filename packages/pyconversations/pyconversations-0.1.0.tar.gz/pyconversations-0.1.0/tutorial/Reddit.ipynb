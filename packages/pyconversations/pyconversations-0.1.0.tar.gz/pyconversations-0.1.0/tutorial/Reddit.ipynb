{
 "cells": [
  {
   "cell_type": "markdown",
   "id": "accessory-filter",
   "metadata": {},
   "source": [
    "# PyConversations: A Reddit-based Example\n",
    "\n",
    "The following is a tutorial notebook that demonstrates how to use `pyconversations` with Reddit data.\n",
    "\n",
    "The first step will be to obtain some data. In order to do so, you will need to configure a personal application via your Reddit account's [App Preferences](https://www.reddit.com/prefs/apps). You'll want to set up a personal usage script. See the _Getting Access_ portion of [this blog](https://towardsdatascience.com/how-to-use-the-reddit-api-in-python-5e05ddfd1e5c) for additional instructions/visualization."
   ]
  },
  {
   "cell_type": "code",
   "execution_count": 1,
   "id": "fourth-nowhere",
   "metadata": {},
   "outputs": [],
   "source": [
    "from pprint import pprint\n",
    "\n",
    "from pyconversations.convo import Conversation\n",
    "from pyconversations.message import RedditPost"
   ]
  },
  {
   "cell_type": "markdown",
   "id": "aggregate-peeing",
   "metadata": {},
   "source": [
    "## Data Sample\n",
    "\n",
    "Before demonstating how we can use `pyconversations` for pre-processing and analysis, we need to obtain a data sample. \n",
    "To do so, we'll be using a package called [praw](https://github.com/praw-dev/praw)."
   ]
  },
  {
   "cell_type": "code",
   "execution_count": 2,
   "id": "earlier-occasion",
   "metadata": {},
   "outputs": [],
   "source": [
    "import praw"
   ]
  },
  {
   "cell_type": "code",
   "execution_count": 3,
   "id": "usual-thickness",
   "metadata": {},
   "outputs": [],
   "source": [
    "# Private information\n",
    "CLIENT_ID = ''  # this should be the 'personal use script' on your App Preferences\n",
    "SECRET_TOKEN = ''  # this should be the 'secret' on your App Preferences\n",
    "USER_AGENT = ''  # a custom name for your application for the User-Agent parameter in the request headers; gives a brief app description to Reddit"
   ]
  },
  {
   "cell_type": "code",
   "execution_count": 4,
   "id": "demanding-bunch",
   "metadata": {},
   "outputs": [
    {
     "data": {
      "text/plain": [
       "(<praw.reddit.Reddit at 0x10a9990d0>, True)"
      ]
     },
     "execution_count": 4,
     "metadata": {},
     "output_type": "execute_result"
    }
   ],
   "source": [
    "# configure a read-only praw.Reddit instance\n",
    "reddit = praw.Reddit(\n",
    "    client_id=CLIENT_ID,\n",
    "    client_secret=SECRET_TOKEN,\n",
    "    user_agent=USER_AGENT,\n",
    ")\n",
    "\n",
    "reddit, reddit.read_only"
   ]
  },
  {
   "cell_type": "code",
   "execution_count": 5,
   "id": "crazy-starter",
   "metadata": {},
   "outputs": [
    {
     "name": "stdout",
     "output_type": "stream",
     "text": [
      "{'_fetched': True,\n",
      " '_path': 'r/Drexel/',\n",
      " '_reddit': <praw.reddit.Reddit object at 0x10a9990d0>,\n",
      " 'accounts_active': 103,\n",
      " 'accounts_active_is_fuzzed': False,\n",
      " 'active_user_count': 103,\n",
      " 'advertiser_category': 'College / University',\n",
      " 'all_original_content': False,\n",
      " 'allow_chat_post_creation': False,\n",
      " 'allow_discovery': True,\n",
      " 'allow_galleries': True,\n",
      " 'allow_images': True,\n",
      " 'allow_polls': True,\n",
      " 'allow_predictions': False,\n",
      " 'allow_predictions_tournament': False,\n",
      " 'allow_videogifs': True,\n",
      " 'allow_videos': True,\n",
      " 'banner_background_color': '#ffffff',\n",
      " 'banner_background_image': 'https://styles.redditmedia.com/t5_2qh6g/styles/bannerBackgroundImage_250phz39qiw31.jpg?width=4000&s=0738f848906e0a9602210260124eb92e697c33e0',\n",
      " 'banner_img': '',\n",
      " 'banner_size': None,\n",
      " 'can_assign_link_flair': False,\n",
      " 'can_assign_user_flair': True,\n",
      " 'collapse_deleted_comments': False,\n",
      " 'comment_score_hide_mins': 0,\n",
      " 'community_icon': 'https://styles.redditmedia.com/t5_2qh6g/styles/communityIcon_ng3537akpiw31.png?width=256&s=84656ab7e31b475024cab614d246251cdd2fbaf9',\n",
      " 'community_reviewed': True,\n",
      " 'created': 1201276536.0,\n",
      " 'created_utc': 1201276536.0,\n",
      " 'description': '### Welcome\\n'\n",
      "                'Drexel University, Home of the Dragons! A community to '\n",
      "                'discuss academics, career, and campus life located at the '\n",
      "                'Avenue of Technology.\\n'\n",
      "                '\\n'\n",
      "                '#### Discord Server\\n'\n",
      "                '[Want to speak with other Drexel students? Click here to be '\n",
      "                'added to the Drexel Discord '\n",
      "                'server!](https://discord.gg/drexel)\\n'\n",
      "                '\\n'\n",
      "                '#### Drexel Minecraft Server\\n'\n",
      "                'Want to check the Drexel campus virtually in Minecraft? Visit '\n",
      "                'the server at mc.drexeldiscord.com!\\n'\n",
      "                '\\n'\n",
      "                '### Recommended Links\\n'\n",
      "                '#### Official\\n'\n",
      "                '- [Drexel Website](http://www.drexel.edu)\\n'\n",
      "                '- [Drexel Facebook](https://www.facebook.com/drexeluniv/)\\n'\n",
      "                '- [Drexel Twitter](https://twitter.com/drexeluniv)\\n'\n",
      "                '- [Drexel Instagram](https://www.instagram.com/drexeluniv/)\\n'\n",
      "                '- [Term Master Schedule](https://www.drexel.edu/webtms)\\n'\n",
      "                '- [Academic '\n",
      "                'Calendar](http://www.drexel.edu/provost/calendars/)\\n'\n",
      "                '- [Campus '\n",
      "                'Map](http://www.drexel.edu/admissions/visit/directions/map-university-city/)\\n'\n",
      "                '\\n'\n",
      "                '#### Clubs\\n'\n",
      "                '- '\n",
      "                '[DragonLink](https://drexel.campuslabs.com/engage/organizations)\\n'\n",
      "                '- [Campus Activities Board (CAB)](http://www.drexelcab.com/)\\n'\n",
      "                '- [Drexel Undergraduate Student Government Association '\n",
      "                '(USGA)](https://www.drexelusga.com/)\\n'\n",
      "                '- [The DAC Pack!](https://www.facebook.com/dacpack)\\n'\n",
      "                '- [The Triangle](http://thetriangle.org/)\\n'\n",
      "                '- [Drexel Gaming Association '\n",
      "                '(DGA)](https://www.facebook.com/DrexelUnivGaming/)\\n'\n",
      "                \"- [DGA's Discord](https://discord.gg/wMfKTT9mvB)\\n\"\n",
      "                '\\n'\n",
      "                '#### Other\\n'\n",
      "                '- [Koofers](https://www.koofers.com/drexel-university/)\\n'\n",
      "                '- '\n",
      "                '[RateMyProfessors](https://www.ratemyprofessors.com/campusRatings.jsp?sid=1521)\\n'\n",
      "                '- [/r/Philadelphia](/r/philadelphia)\\n'\n",
      "                '\\n'\n",
      "                '### Rules\\n'\n",
      "                '- No harassment, discrimination, or abuse of any kind.\\n'\n",
      "                '- No spam.\\n'\n",
      "                '- No advertising; only items related to Drexel clubs, '\n",
      "                'activities, or similar areas are acceptable.\\n'\n",
      "                '- No NSFW content\\n'\n",
      "                '- No sharing of illegal content; Broad discussion about '\n",
      "                'piracy is allowed. However, sharing pirated content and '\n",
      "                \"circumventing DRM is not allowed. Please see Drexel's \"\n",
      "                '[official '\n",
      "                'policy](https://drexel.edu/it/security/policies-regulations/copyright/).\\n'\n",
      "                '- No sharing of private information\\n'\n",
      "                '- No trolling or heavy politics\\n'\n",
      "                '- Please keep in mind of Academic Dishonesty; Cheating, '\n",
      "                'sharing of answers, and plagiarism is NOT allowed. This '\n",
      "                'includes images of classwork, prior exams, and snippets of '\n",
      "                'code.',\n",
      " 'description_html': '<!-- SC_OFF --><div class=\"md\"><h3>Welcome</h3>\\n'\n",
      "                     '\\n'\n",
      "                     '<p>Drexel University, Home of the Dragons! A community '\n",
      "                     'to discuss academics, career, and campus life located at '\n",
      "                     'the Avenue of Technology.</p>\\n'\n",
      "                     '\\n'\n",
      "                     '<h4>Discord Server</h4>\\n'\n",
      "                     '\\n'\n",
      "                     '<p><a href=\"https://discord.gg/drexel\">Want to speak '\n",
      "                     'with other Drexel students? Click here to be added to '\n",
      "                     'the Drexel Discord server!</a></p>\\n'\n",
      "                     '\\n'\n",
      "                     '<h4>Drexel Minecraft Server</h4>\\n'\n",
      "                     '\\n'\n",
      "                     '<p>Want to check the Drexel campus virtually in '\n",
      "                     'Minecraft? Visit the server at '\n",
      "                     'mc.drexeldiscord.com!</p>\\n'\n",
      "                     '\\n'\n",
      "                     '<h3>Recommended Links</h3>\\n'\n",
      "                     '\\n'\n",
      "                     '<h4>Official</h4>\\n'\n",
      "                     '\\n'\n",
      "                     '<ul>\\n'\n",
      "                     '<li><a href=\"http://www.drexel.edu\">Drexel '\n",
      "                     'Website</a></li>\\n'\n",
      "                     '<li><a '\n",
      "                     'href=\"https://www.facebook.com/drexeluniv/\">Drexel '\n",
      "                     'Facebook</a></li>\\n'\n",
      "                     '<li><a href=\"https://twitter.com/drexeluniv\">Drexel '\n",
      "                     'Twitter</a></li>\\n'\n",
      "                     '<li><a '\n",
      "                     'href=\"https://www.instagram.com/drexeluniv/\">Drexel '\n",
      "                     'Instagram</a></li>\\n'\n",
      "                     '<li><a href=\"https://www.drexel.edu/webtms\">Term Master '\n",
      "                     'Schedule</a></li>\\n'\n",
      "                     '<li><a '\n",
      "                     'href=\"http://www.drexel.edu/provost/calendars/\">Academic '\n",
      "                     'Calendar</a></li>\\n'\n",
      "                     '<li><a '\n",
      "                     'href=\"http://www.drexel.edu/admissions/visit/directions/map-university-city/\">Campus '\n",
      "                     'Map</a></li>\\n'\n",
      "                     '</ul>\\n'\n",
      "                     '\\n'\n",
      "                     '<h4>Clubs</h4>\\n'\n",
      "                     '\\n'\n",
      "                     '<ul>\\n'\n",
      "                     '<li><a '\n",
      "                     'href=\"https://drexel.campuslabs.com/engage/organizations\">DragonLink</a></li>\\n'\n",
      "                     '<li><a href=\"http://www.drexelcab.com/\">Campus '\n",
      "                     'Activities Board (CAB)</a></li>\\n'\n",
      "                     '<li><a href=\"https://www.drexelusga.com/\">Drexel '\n",
      "                     'Undergraduate Student Government Association '\n",
      "                     '(USGA)</a></li>\\n'\n",
      "                     '<li><a href=\"https://www.facebook.com/dacpack\">The DAC '\n",
      "                     'Pack!</a></li>\\n'\n",
      "                     '<li><a href=\"http://thetriangle.org/\">The '\n",
      "                     'Triangle</a></li>\\n'\n",
      "                     '<li><a '\n",
      "                     'href=\"https://www.facebook.com/DrexelUnivGaming/\">Drexel '\n",
      "                     'Gaming Association (DGA)</a></li>\\n'\n",
      "                     '<li><a href=\"https://discord.gg/wMfKTT9mvB\">DGA&#39;s '\n",
      "                     'Discord</a></li>\\n'\n",
      "                     '</ul>\\n'\n",
      "                     '\\n'\n",
      "                     '<h4>Other</h4>\\n'\n",
      "                     '\\n'\n",
      "                     '<ul>\\n'\n",
      "                     '<li><a '\n",
      "                     'href=\"https://www.koofers.com/drexel-university/\">Koofers</a></li>\\n'\n",
      "                     '<li><a '\n",
      "                     'href=\"https://www.ratemyprofessors.com/campusRatings.jsp?sid=1521\">RateMyProfessors</a></li>\\n'\n",
      "                     '<li><a href=\"/r/philadelphia\">/r/Philadelphia</a></li>\\n'\n",
      "                     '</ul>\\n'\n",
      "                     '\\n'\n",
      "                     '<h3>Rules</h3>\\n'\n",
      "                     '\\n'\n",
      "                     '<ul>\\n'\n",
      "                     '<li>No harassment, discrimination, or abuse of any '\n",
      "                     'kind.</li>\\n'\n",
      "                     '<li>No spam.</li>\\n'\n",
      "                     '<li>No advertising; only items related to Drexel clubs, '\n",
      "                     'activities, or similar areas are acceptable.</li>\\n'\n",
      "                     '<li>No NSFW content</li>\\n'\n",
      "                     '<li>No sharing of illegal content; Broad discussion '\n",
      "                     'about piracy is allowed. However, sharing pirated '\n",
      "                     'content and circumventing DRM is not allowed. Please see '\n",
      "                     'Drexel&#39;s <a '\n",
      "                     'href=\"https://drexel.edu/it/security/policies-regulations/copyright/\">official '\n",
      "                     'policy</a>.</li>\\n'\n",
      "                     '<li>No sharing of private information</li>\\n'\n",
      "                     '<li>No trolling or heavy politics</li>\\n'\n",
      "                     '<li>Please keep in mind of Academic Dishonesty; '\n",
      "                     'Cheating, sharing of answers, and plagiarism is NOT '\n",
      "                     'allowed. This includes images of classwork, prior exams, '\n",
      "                     'and snippets of code.</li>\\n'\n",
      "                     '</ul>\\n'\n",
      "                     '</div><!-- SC_ON -->',\n",
      " 'disable_contributor_requests': False,\n",
      " 'display_name': 'Drexel',\n",
      " 'display_name_prefixed': 'r/Drexel',\n",
      " 'emojis_custom_size': None,\n",
      " 'emojis_enabled': False,\n",
      " 'free_form_reports': True,\n",
      " 'has_menu_widget': False,\n",
      " 'header_img': 'https://b.thumbs.redditmedia.com/UH2XypvZdtFhwygHxPdXLI35YCrkDtkLpBj3Xdzo9Yg.png',\n",
      " 'header_size': [120, 40],\n",
      " 'header_title': '',\n",
      " 'hide_ads': False,\n",
      " 'icon_img': '',\n",
      " 'icon_size': None,\n",
      " 'id': '2qh6g',\n",
      " 'is_chat_post_feature_enabled': True,\n",
      " 'is_crosspostable_subreddit': False,\n",
      " 'is_enrolled_in_new_modmail': None,\n",
      " 'key_color': '#a5a4a4',\n",
      " 'lang': 'en',\n",
      " 'link_flair_enabled': True,\n",
      " 'link_flair_position': 'right',\n",
      " 'mobile_banner_image': 'https://styles.redditmedia.com/t5_2qh6g/styles/mobileBannerImage_mb3w6m85qiw31.jpg',\n",
      " 'name': 't5_2qh6g',\n",
      " 'notification_level': None,\n",
      " 'original_content_tag_enabled': False,\n",
      " 'over18': False,\n",
      " 'prediction_leaderboard_entry_type': 'IN_FEED',\n",
      " 'primary_color': '#07294d',\n",
      " 'public_description': 'Drexel University, home of the Drexel Dragons! A '\n",
      "                       'community to discuss academics, career, and campus '\n",
      "                       'life located at the Avenue of Technology.',\n",
      " 'public_description_html': '<!-- SC_OFF --><div class=\"md\"><p>Drexel '\n",
      "                            'University, home of the Drexel Dragons! A '\n",
      "                            'community to discuss academics, career, and '\n",
      "                            'campus life located at the Avenue of '\n",
      "                            'Technology.</p>\\n'\n",
      "                            '</div><!-- SC_ON -->',\n",
      " 'public_traffic': False,\n",
      " 'quarantine': False,\n",
      " 'restrict_commenting': False,\n",
      " 'restrict_posting': True,\n",
      " 'show_media': False,\n",
      " 'show_media_preview': True,\n",
      " 'spoilers_enabled': True,\n",
      " 'submission_type': 'any',\n",
      " 'submit_link_label': '',\n",
      " 'submit_text': \"**If there's a megathread stuck to the top of the subreddit \"\n",
      "                'which is relevant to your post, please post there! There '\n",
      "                'might already be a discussion going on, or your question may '\n",
      "                'have already been answered!**',\n",
      " 'submit_text_html': '<!-- SC_OFF --><div class=\"md\"><p><strong>If there&#39;s '\n",
      "                     'a megathread stuck to the top of the subreddit which is '\n",
      "                     'relevant to your post, please post there! There might '\n",
      "                     'already be a discussion going on, or your question may '\n",
      "                     'have already been answered!</strong></p>\\n'\n",
      "                     '</div><!-- SC_ON -->',\n",
      " 'submit_text_label': '',\n",
      " 'subreddit_type': 'public',\n",
      " 'subscribers': 9764,\n",
      " 'suggested_comment_sort': None,\n",
      " 'title': 'Drexel University',\n",
      " 'url': '/r/Drexel/',\n",
      " 'user_can_flair_in_sr': None,\n",
      " 'user_flair_background_color': None,\n",
      " 'user_flair_css_class': None,\n",
      " 'user_flair_enabled_in_sr': True,\n",
      " 'user_flair_position': 'right',\n",
      " 'user_flair_richtext': [],\n",
      " 'user_flair_template_id': None,\n",
      " 'user_flair_text': None,\n",
      " 'user_flair_text_color': None,\n",
      " 'user_flair_type': 'text',\n",
      " 'user_has_favorited': None,\n",
      " 'user_is_banned': None,\n",
      " 'user_is_contributor': None,\n",
      " 'user_is_moderator': None,\n",
      " 'user_is_muted': None,\n",
      " 'user_is_subscriber': None,\n",
      " 'user_sr_flair_enabled': None,\n",
      " 'user_sr_theme_enabled': True,\n",
      " 'videostream_links_count': 0,\n",
      " 'whitelist_status': 'all_ads',\n",
      " 'wiki_enabled': False,\n",
      " 'wls': 6}\n"
     ]
    }
   ],
   "source": [
    "# obtain a sub-reddit of interest\n",
    "sub_name = 'Drexel'\n",
    "subreddit = reddit.subreddit(sub_name)\n",
    "\n",
    "subreddit.title  # PRAW is lazy so won't request till we ask for an attribute\n",
    "\n",
    "pprint(vars(subreddit))"
   ]
  },
  {
   "cell_type": "code",
   "execution_count": 6,
   "id": "ancient-somerset",
   "metadata": {},
   "outputs": [
    {
     "name": "stdout",
     "output_type": "stream",
     "text": [
      "{'_comments_by_id': {},\n",
      " '_fetched': False,\n",
      " '_reddit': <praw.reddit.Reddit object at 0x10a9990d0>,\n",
      " 'all_awardings': [],\n",
      " 'allow_live_comments': False,\n",
      " 'approved_at_utc': None,\n",
      " 'approved_by': None,\n",
      " 'archived': False,\n",
      " 'author': Redditor(name='AstroGnat'),\n",
      " 'author_flair_background_color': None,\n",
      " 'author_flair_css_class': 'textflair',\n",
      " 'author_flair_richtext': [],\n",
      " 'author_flair_template_id': '59c1edbc-5345-11e1-9edb-12313b08a511',\n",
      " 'author_flair_text': 'Alumni | Digital Media',\n",
      " 'author_flair_text_color': 'dark',\n",
      " 'author_flair_type': 'text',\n",
      " 'author_fullname': 't2_3gjpr',\n",
      " 'author_is_blocked': False,\n",
      " 'author_patreon_flair': False,\n",
      " 'author_premium': False,\n",
      " 'awarders': [],\n",
      " 'banned_at_utc': None,\n",
      " 'banned_by': None,\n",
      " 'can_gild': False,\n",
      " 'can_mod_post': False,\n",
      " 'category': None,\n",
      " 'clicked': False,\n",
      " 'comment_limit': 2048,\n",
      " 'comment_sort': 'confidence',\n",
      " 'content_categories': None,\n",
      " 'contest_mode': False,\n",
      " 'created': 1626638983.0,\n",
      " 'created_utc': 1626638983.0,\n",
      " 'discussion_type': None,\n",
      " 'distinguished': 'moderator',\n",
      " 'domain': 'self.Drexel',\n",
      " 'downs': 0,\n",
      " 'edited': False,\n",
      " 'gilded': 0,\n",
      " 'gildings': {},\n",
      " 'hidden': False,\n",
      " 'hide_score': False,\n",
      " 'id': 'omya9w',\n",
      " 'is_created_from_ads_ui': False,\n",
      " 'is_crosspostable': False,\n",
      " 'is_meta': False,\n",
      " 'is_original_content': False,\n",
      " 'is_reddit_media_domain': False,\n",
      " 'is_robot_indexable': True,\n",
      " 'is_self': True,\n",
      " 'is_video': False,\n",
      " 'likes': None,\n",
      " 'link_flair_background_color': '',\n",
      " 'link_flair_css_class': None,\n",
      " 'link_flair_richtext': [],\n",
      " 'link_flair_text': None,\n",
      " 'link_flair_text_color': 'dark',\n",
      " 'link_flair_type': 'text',\n",
      " 'locked': False,\n",
      " 'media': None,\n",
      " 'media_embed': {},\n",
      " 'media_only': False,\n",
      " 'mod_note': None,\n",
      " 'mod_reason_by': None,\n",
      " 'mod_reason_title': None,\n",
      " 'mod_reports': [],\n",
      " 'name': 't3_omya9w',\n",
      " 'no_follow': False,\n",
      " 'num_comments': 19,\n",
      " 'num_crossposts': 0,\n",
      " 'num_reports': None,\n",
      " 'over_18': False,\n",
      " 'parent_whitelist_status': 'all_ads',\n",
      " 'permalink': '/r/Drexel/comments/omya9w/sublet_thread_fall_winter/',\n",
      " 'pinned': False,\n",
      " 'pwls': 6,\n",
      " 'quarantine': False,\n",
      " 'removal_reason': None,\n",
      " 'removed_by': None,\n",
      " 'removed_by_category': None,\n",
      " 'report_reasons': None,\n",
      " 'saved': False,\n",
      " 'score': 9,\n",
      " 'secure_media': None,\n",
      " 'secure_media_embed': {},\n",
      " 'selftext': \"Here's the thread for Fall Winter sublets. Please keep all posts \"\n",
      "             \"related to sublets in this thread, as we'll remove any posts \"\n",
      "             \"that aren't here.  Thanks!\",\n",
      " 'selftext_html': '<!-- SC_OFF --><div class=\"md\"><p>Here&#39;s the thread for '\n",
      "                  'Fall Winter sublets. Please keep all posts related to '\n",
      "                  'sublets in this thread, as we&#39;ll remove any posts that '\n",
      "                  'aren&#39;t here.  Thanks!</p>\\n'\n",
      "                  '</div><!-- SC_ON -->',\n",
      " 'send_replies': False,\n",
      " 'spoiler': False,\n",
      " 'stickied': True,\n",
      " 'subreddit': Subreddit(display_name='Drexel'),\n",
      " 'subreddit_id': 't5_2qh6g',\n",
      " 'subreddit_name_prefixed': 'r/Drexel',\n",
      " 'subreddit_subscribers': 9764,\n",
      " 'subreddit_type': 'public',\n",
      " 'suggested_sort': None,\n",
      " 'thumbnail': '',\n",
      " 'title': 'Sublet Thread - Fall Winter',\n",
      " 'top_awarded_type': None,\n",
      " 'total_awards_received': 0,\n",
      " 'treatment_tags': [],\n",
      " 'ups': 9,\n",
      " 'upvote_ratio': 0.92,\n",
      " 'url': 'https://www.reddit.com/r/Drexel/comments/omya9w/sublet_thread_fall_winter/',\n",
      " 'user_reports': [],\n",
      " 'view_count': None,\n",
      " 'visited': False,\n",
      " 'whitelist_status': 'all_ads',\n",
      " 'wls': 6}\n"
     ]
    }
   ],
   "source": [
    "# get the top submission via 'hot'\n",
    "top_submission = list(subreddit.hot(limit=1))[0]\n",
    "top_submission.title\n",
    "\n",
    "pprint(vars(top_submission))"
   ]
  },
  {
   "cell_type": "code",
   "execution_count": 7,
   "id": "american-moment",
   "metadata": {},
   "outputs": [
    {
     "name": "stdout",
     "output_type": "stream",
     "text": [
      "17\n",
      "{'_fetched': True,\n",
      " '_reddit': <praw.reddit.Reddit object at 0x10a9990d0>,\n",
      " '_replies': <praw.models.comment_forest.CommentForest object at 0x11eb1e610>,\n",
      " '_submission': Submission(id='omya9w'),\n",
      " 'all_awardings': [],\n",
      " 'approved_at_utc': None,\n",
      " 'approved_by': None,\n",
      " 'archived': False,\n",
      " 'associated_award': None,\n",
      " 'author': Redditor(name='Fun-Obligation5729'),\n",
      " 'author_flair_background_color': None,\n",
      " 'author_flair_css_class': None,\n",
      " 'author_flair_richtext': [],\n",
      " 'author_flair_template_id': None,\n",
      " 'author_flair_text': None,\n",
      " 'author_flair_text_color': None,\n",
      " 'author_flair_type': 'text',\n",
      " 'author_fullname': 't2_883n07bs',\n",
      " 'author_is_blocked': False,\n",
      " 'author_patreon_flair': False,\n",
      " 'author_premium': False,\n",
      " 'awarders': [],\n",
      " 'banned_at_utc': None,\n",
      " 'banned_by': None,\n",
      " 'body': 'I have a room available from September 1st- August 31st at 3406 race '\n",
      "         'street. It’s 775$ . Let me know if anyone’s interested.',\n",
      " 'body_html': '<div class=\"md\"><p>I have a room available from September 1st- '\n",
      "              'August 31st at 3406 race street. It’s 775$ . Let me know if '\n",
      "              'anyone’s interested.</p>\\n'\n",
      "              '</div>',\n",
      " 'can_gild': True,\n",
      " 'can_mod_post': False,\n",
      " 'collapsed': False,\n",
      " 'collapsed_because_crowd_control': None,\n",
      " 'collapsed_reason': None,\n",
      " 'collapsed_reason_code': None,\n",
      " 'comment_type': None,\n",
      " 'controversiality': 0,\n",
      " 'created': 1626639367.0,\n",
      " 'created_utc': 1626639367.0,\n",
      " 'depth': 0,\n",
      " 'distinguished': None,\n",
      " 'downs': 0,\n",
      " 'edited': False,\n",
      " 'gilded': 0,\n",
      " 'gildings': {},\n",
      " 'id': 'h5o67bf',\n",
      " 'is_submitter': False,\n",
      " 'likes': None,\n",
      " 'link_id': 't3_omya9w',\n",
      " 'locked': False,\n",
      " 'mod_note': None,\n",
      " 'mod_reason_by': None,\n",
      " 'mod_reason_title': None,\n",
      " 'mod_reports': [],\n",
      " 'name': 't1_h5o67bf',\n",
      " 'no_follow': True,\n",
      " 'num_reports': None,\n",
      " 'parent_id': 't3_omya9w',\n",
      " 'permalink': '/r/Drexel/comments/omya9w/sublet_thread_fall_winter/h5o67bf/',\n",
      " 'removal_reason': None,\n",
      " 'report_reasons': None,\n",
      " 'saved': False,\n",
      " 'score': 2,\n",
      " 'score_hidden': False,\n",
      " 'send_replies': True,\n",
      " 'stickied': False,\n",
      " 'subreddit': Subreddit(display_name='Drexel'),\n",
      " 'subreddit_id': 't5_2qh6g',\n",
      " 'subreddit_name_prefixed': 'r/Drexel',\n",
      " 'subreddit_type': 'public',\n",
      " 'top_awarded_type': None,\n",
      " 'total_awards_received': 0,\n",
      " 'treatment_tags': [],\n",
      " 'ups': 2,\n",
      " 'user_reports': []}\n"
     ]
    }
   ],
   "source": [
    "# get all the comments on this submission\n",
    "all_comments = top_submission.comments.list()\n",
    "\n",
    "print(len(all_comments))\n",
    "\n",
    "all_comments[0].score\n",
    "pprint(vars(all_comments[0]))"
   ]
  },
  {
   "cell_type": "markdown",
   "id": "textile-information",
   "metadata": {},
   "source": [
    "## Integration with `pyconversations`\n",
    "\n",
    "All that's left to do is plug our data directly into `pyconversations`!"
   ]
  },
  {
   "cell_type": "code",
   "execution_count": 8,
   "id": "original-student",
   "metadata": {},
   "outputs": [],
   "source": [
    "# construct a conversation container\n",
    "conv = Conversation()"
   ]
  },
  {
   "cell_type": "code",
   "execution_count": 9,
   "id": "nominated-render",
   "metadata": {},
   "outputs": [
    {
     "data": {
      "text/plain": [
       "RedditPost(Reddit::AstroGnat::2021-07-18 16:09:43::Sublet Thread - Fall Winter\n",
       "\n",
       "Here's the thread for::tags=)"
      ]
     },
     "execution_count": 9,
     "metadata": {},
     "output_type": "execute_result"
    }
   ],
   "source": [
    "# parse our root submission\n",
    "cons_params = {\n",
    "    'lang_detect': True,  # whether to enable the language detection module on the text\n",
    "    'uid': top_submission.id,  # the unique identifier of the post\n",
    "    'author': top_submission.author.name if top_submission.author is not None else None,  # name of user\n",
    "    'created_at': RedditPost.parse_datestr(top_submission.created),  # creation timestamp\n",
    "    'text': (top_submission.title + '\\n\\n' + top_submission.selftext).strip()  # text of post\n",
    "}\n",
    "top_post = RedditPost(**cons_params)\n",
    "top_post"
   ]
  },
  {
   "cell_type": "code",
   "execution_count": 10,
   "id": "standing-morocco",
   "metadata": {},
   "outputs": [],
   "source": [
    "# add our post to the conversation\n",
    "conv.add_post(top_post)"
   ]
  },
  {
   "cell_type": "code",
   "execution_count": 11,
   "id": "explicit-stone",
   "metadata": {},
   "outputs": [
    {
     "data": {
      "text/plain": [
       "{'omya9w': RedditPost(Reddit::AstroGnat::2021-07-18 16:09:43::Sublet Thread - Fall Winter\n",
       " \n",
       " Here's the thread for::tags=)}"
      ]
     },
     "execution_count": 11,
     "metadata": {},
     "output_type": "execute_result"
    }
   ],
   "source": [
    "# which we can easily access via the .posts property, to verify inclusion\n",
    "conv.posts"
   ]
  },
  {
   "cell_type": "code",
   "execution_count": 12,
   "id": "collect-conditions",
   "metadata": {},
   "outputs": [
    {
     "data": {
      "text/plain": [
       "18"
      ]
     },
     "execution_count": 12,
     "metadata": {},
     "output_type": "execute_result"
    }
   ],
   "source": [
    "# iterate through comments and add them to the conversation\n",
    "for com in all_comments:\n",
    "    conv.add_post(RedditPost(**{\n",
    "        'lang_detect': True,  # whethher to enable the language detection module on the txt\n",
    "        'uid': com.id,  # the unique identifier of the post\n",
    "        'author': com.author.name if com.author is not None else None,  # name of user\n",
    "        'created_at': RedditPost.parse_datestr(com.created),  # creation timestamp\n",
    "        'text': com.body.strip(),  # text of post\n",
    "        'reply_to': {com.parent_id.replace('t1_', '').replace('t3_', '')}  # set of IDs replied to\n",
    "    }))\n",
    "\n",
    "len(conv.posts)"
   ]
  },
  {
   "cell_type": "markdown",
   "id": "minute-fountain",
   "metadata": {},
   "source": [
    "### Sub-Conversation Segmentation"
   ]
  },
  {
   "cell_type": "code",
   "execution_count": 13,
   "id": "objective-practitioner",
   "metadata": {},
   "outputs": [
    {
     "data": {
      "text/plain": [
       "1"
      ]
     },
     "execution_count": 13,
     "metadata": {},
     "output_type": "execute_result"
    }
   ],
   "source": [
    "# seperate disjoint conversations (there is likely just the one with a full query from the site...)\n",
    "segs = conv.segment()\n",
    "\n",
    "len(segs)"
   ]
  },
  {
   "cell_type": "markdown",
   "id": "incoming-madison",
   "metadata": {},
   "source": [
    "### (Detected) Language Distribution"
   ]
  },
  {
   "cell_type": "code",
   "execution_count": 14,
   "id": "excess-shelter",
   "metadata": {},
   "outputs": [
    {
     "data": {
      "text/plain": [
       "Counter({'en': 17, 'und': 1})"
      ]
     },
     "execution_count": 14,
     "metadata": {},
     "output_type": "execute_result"
    }
   ],
   "source": [
    "from collections import Counter\n",
    "\n",
    "lang_dist = Counter([post.lang for post in conv.posts.values()])\n",
    "lang_dist"
   ]
  },
  {
   "cell_type": "markdown",
   "id": "immediate-belfast",
   "metadata": {},
   "source": [
    "### Conversation-Level Redaction\n",
    "\n",
    "Using `Conversation.redact()` produces a thread that is cleaned of user-specific information. \n",
    "This is conversationally-scoped, so all usernames are first enumerated (either from author names or from in-text reference for Reddit and Twitter) and then user mentions (and author names) are replaced by `USER{\\d}` where `{\\d}` is the integer assigned to that username during the enumeration stage.\n",
    "\n",
    "Here's a demonstration:"
   ]
  },
  {
   "cell_type": "code",
   "execution_count": 15,
   "id": "extended-municipality",
   "metadata": {},
   "outputs": [
    {
     "data": {
      "text/plain": [
       "(17,\n",
       " {'According-Rate-2705',\n",
       "  'AstroGnat',\n",
       "  'Fit_Web_7741',\n",
       "  'Fun-Obligation5729',\n",
       "  'Hasta_La_Pasta827',\n",
       "  'HumbleAbodee',\n",
       "  'asapmeelz',\n",
       "  'cbreck117',\n",
       "  'ghanshani_ritik',\n",
       "  'makkirch',\n",
       "  'memeboi2002',\n",
       "  'sanjubee',\n",
       "  'simonest27',\n",
       "  'starryknight16',\n",
       "  'thecalk',\n",
       "  'turtlesturtlesduck',\n",
       "  'viettran127'})"
      ]
     },
     "execution_count": 15,
     "metadata": {},
     "output_type": "execute_result"
    }
   ],
   "source": [
    "# pre-redaction \n",
    "names = {post.author for post in conv.posts.values()}\n",
    "\n",
    "len(names), names"
   ]
  },
  {
   "cell_type": "code",
   "execution_count": 16,
   "id": "higher-laser",
   "metadata": {},
   "outputs": [],
   "source": [
    "# redaction step\n",
    "conv.redact()"
   ]
  },
  {
   "cell_type": "code",
   "execution_count": 17,
   "id": "introductory-giant",
   "metadata": {},
   "outputs": [
    {
     "data": {
      "text/plain": [
       "(17,\n",
       " {'USER0',\n",
       "  'USER1',\n",
       "  'USER10',\n",
       "  'USER11',\n",
       "  'USER12',\n",
       "  'USER13',\n",
       "  'USER14',\n",
       "  'USER15',\n",
       "  'USER16',\n",
       "  'USER2',\n",
       "  'USER3',\n",
       "  'USER4',\n",
       "  'USER5',\n",
       "  'USER6',\n",
       "  'USER7',\n",
       "  'USER8',\n",
       "  'USER9'})"
      ]
     },
     "execution_count": 17,
     "metadata": {},
     "output_type": "execute_result"
    }
   ],
   "source": [
    "# post-redaction\n",
    "names = {post.author for post in conv.posts.values()}\n",
    "len(names), names"
   ]
  },
  {
   "cell_type": "markdown",
   "id": "outer-senate",
   "metadata": {},
   "source": [
    "### Saving and Loading from the universal format"
   ]
  },
  {
   "cell_type": "code",
   "execution_count": 18,
   "id": "comic-louisville",
   "metadata": {},
   "outputs": [],
   "source": [
    "import json"
   ]
  },
  {
   "cell_type": "code",
   "execution_count": 19,
   "id": "scenic-student",
   "metadata": {},
   "outputs": [],
   "source": [
    "# saving a conversation to disk\n",
    "# alternatively: save as a JSONLine file, where each line is a conversation!\n",
    "json.dump(conv.to_json(), open('reddit_conv.json', 'w+'))"
   ]
  },
  {
   "cell_type": "code",
   "execution_count": 20,
   "id": "historic-ladder",
   "metadata": {},
   "outputs": [
    {
     "data": {
      "text/plain": [
       "18"
      ]
     },
     "execution_count": 20,
     "metadata": {},
     "output_type": "execute_result"
    }
   ],
   "source": [
    "# reloading directly from the JSON\n",
    "conv_reloaded = Conversation.from_json(json.load(open('reddit_conv.json')))\n",
    "len(conv_reloaded.posts)"
   ]
  },
  {
   "cell_type": "markdown",
   "id": "computational-studio",
   "metadata": {},
   "source": [
    "### Feature Extraction\n",
    "\n",
    "The remainder of this notebook exhibits some basic vectorization of features from conversations, posts, and users within this conversation. \n",
    "For more information, see the documentation for PyConversations."
   ]
  },
  {
   "cell_type": "code",
   "execution_count": 21,
   "id": "scheduled-energy",
   "metadata": {},
   "outputs": [],
   "source": [
    "from pyconversations.feature_extraction import ConversationVectorizer\n",
    "from pyconversations.feature_extraction import PostVectorizer\n",
    "from pyconversations.feature_extraction import UserVectorizer"
   ]
  },
  {
   "cell_type": "code",
   "execution_count": 22,
   "id": "certain-spray",
   "metadata": {},
   "outputs": [],
   "source": [
    "convs = True\n",
    "# convs = False\n",
    "\n",
    "users = True\n",
    "# users = False\n",
    "\n",
    "posts = True\n",
    "# posts = False\n",
    "\n",
    "# normalization = None\n",
    "# normalization = 'minmax'\n",
    "# normalization = 'mean'\n",
    "normalization = 'standard'\n",
    "\n",
    "# cv = ConversationVectorizer(normalization=normalization, agg_user_fts=users, agg_post_fts=posts, include_source_user=True)\n",
    "pv = PostVectorizer(normalization=normalization, include_conversation=convs, include_user=users)\n",
    "# uv = UserVectorizer(normalization=normalization, agg_post_fts=posts)"
   ]
  },
  {
   "cell_type": "code",
   "execution_count": 23,
   "id": "constitutional-tennis",
   "metadata": {},
   "outputs": [
    {
     "data": {
      "text/plain": [
       "<pyconversations.feature_extraction.extractors.PostVectorizer at 0x122860d10>"
      ]
     },
     "execution_count": 23,
     "metadata": {},
     "output_type": "execute_result"
    }
   ],
   "source": [
    "# cv.fit(conv=conv_reloaded)\n",
    "pv.fit(conv=conv_reloaded)\n",
    "# uv.fit(conv=conv_reloaded)"
   ]
  },
  {
   "cell_type": "code",
   "execution_count": 24,
   "id": "greek-beginning",
   "metadata": {},
   "outputs": [
    {
     "name": "stdout",
     "output_type": "stream",
     "text": [
      "(18, 3317)\n"
     ]
    }
   ],
   "source": [
    "# cxs = cv.transform(conv=conv_reloaded)\n",
    "pxs = pv.transform(conv=conv_reloaded)\n",
    "# uxs = uv.transform(conv=conv_reloaded)\n",
    "\n",
    "# pprint(cxs.shape)\n",
    "pprint(pxs.shape)\n",
    "# pprint(uxs.shape)"
   ]
  }
 ],
 "metadata": {
  "kernelspec": {
   "display_name": "Python 3",
   "language": "python",
   "name": "python3"
  },
  "language_info": {
   "codemirror_mode": {
    "name": "ipython",
    "version": 3
   },
   "file_extension": ".py",
   "mimetype": "text/x-python",
   "name": "python",
   "nbconvert_exporter": "python",
   "pygments_lexer": "ipython3",
   "version": "3.7.6"
  }
 },
 "nbformat": 4,
 "nbformat_minor": 5
}
