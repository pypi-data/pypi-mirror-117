{
 "cells": [
  {
   "cell_type": "code",
   "execution_count": null,
   "id": "9f68aa97",
   "metadata": {},
   "outputs": [],
   "source": [
    "%load_ext autoreload\n",
    "%autoreload 2"
   ]
  },
  {
   "cell_type": "code",
   "execution_count": null,
   "id": "3f087327",
   "metadata": {},
   "outputs": [],
   "source": [
    "from dotenv import load_dotenv\n",
    "\n",
    "load_dotenv(\"../../.env.localhost\")"
   ]
  },
  {
   "cell_type": "markdown",
   "id": "817ccd08",
   "metadata": {},
   "source": [
    "# Site Client Session"
   ]
  },
  {
   "cell_type": "code",
   "execution_count": null,
   "id": "f11c2627",
   "metadata": {},
   "outputs": [],
   "source": [
    "from nmdc_runtime.util import nmdc_jsonschema, nmdc_jsonschema_validate"
   ]
  },
  {
   "cell_type": "code",
   "execution_count": null,
   "id": "0f95e505",
   "metadata": {},
   "outputs": [],
   "source": [
    "from nmdc_runtime.dagster.repository import run_config_frozen__normal_env\n",
    "from nmdc_runtime.dagster.resources import get_mongo\n",
    "\n",
    "\n",
    "mongo = get_mongo(run_config_frozen__normal_env)\n",
    "mdb = mongo.db"
   ]
  },
  {
   "cell_type": "code",
   "execution_count": null,
   "id": "0d33cac7",
   "metadata": {},
   "outputs": [],
   "source": [
    "from nmdc_runtime.dagster.repository import run_config_frozen__normal_env\n",
    "from nmdc_runtime.dagster.resources import get_runtime_api_site_client\n",
    "\n",
    "\n",
    "client = get_runtime_api_site_client(run_config_frozen__normal_env)"
   ]
  },
  {
   "cell_type": "code",
   "execution_count": null,
   "id": "e3508811",
   "metadata": {},
   "outputs": [],
   "source": [
    "from pprint import pprint\n",
    "\n",
    "pprint(run_config_frozen__normal_env)"
   ]
  },
  {
   "cell_type": "code",
   "execution_count": null,
   "id": "ccf9c8ca",
   "metadata": {},
   "outputs": [],
   "source": [
    "# import os\n",
    "\n",
    "# from nmdc_runtime.resources.core import RuntimeApiSiteClient\n",
    "\n",
    "# client = RuntimeApiSiteClient(\n",
    "#     base_url=\"https://drs.microbiomedata.org\",\n",
    "#     site_id=os.getenv(\"API_SITE_ID\"),\n",
    "#     client_id=os.getenv(\"API_SITE_CLIENT_ID\"),\n",
    "#     client_secret=os.getenv(\"API_SITE_CLIENT_SECRET\"),\n",
    "# )"
   ]
  },
  {
   "cell_type": "markdown",
   "id": "57002693",
   "metadata": {},
   "source": [
    "# aggregated file counts and sizes by data type"
   ]
  },
  {
   "cell_type": "code",
   "execution_count": null,
   "id": "6b9ab81b",
   "metadata": {},
   "outputs": [],
   "source": [
    "ids = [d[\"_id\"] for d in mdb.data_object_set.find({\"data_object_type\": {\"$exists\": True}}, [\"_id\"])]\n",
    "\n",
    "stats_docs = list(mdb.data_object_set.aggregate([\n",
    "    {\"$match\": {\"data_object_type\": {\"$exists\": True}}},\n",
    "    {\"$group\": {\n",
    "        \"_id\": \"$data_object_type\",\n",
    "        \"size_total\": {\"$sum\": \"$file_size_bytes\"},\n",
    "        \"count\": {\"$sum\": 1}\n",
    "    }},\n",
    "]))\n",
    "\n",
    "for sdoc in stats_docs:\n",
    "    edoc = mdb.file_type_enum.find_one({\"id\": sdoc[\"_id\"]})\n",
    "    sdoc[\"name\"] = edoc[\"name\"]\n",
    "    sdoc[\"description\"] = edoc[\"description\"]\n",
    "    \n",
    "for d in stats_docs:\n",
    "    print(\"{name} ({description}):\".format(**d))\n",
    "    print(f\"total size (TB): {(d['size_total'] / (1024 * 1024 * 1024 * 1024)):.3}\")\n",
    "    print(\"count: {count}\".format(**d))\n",
    "    print()"
   ]
  },
  {
   "cell_type": "markdown",
   "id": "3afe49a4",
   "metadata": {},
   "source": [
    "# Manage User/Client Credentials"
   ]
  },
  {
   "cell_type": "code",
   "execution_count": null,
   "id": "74a28fa2",
   "metadata": {},
   "outputs": [],
   "source": [
    "from nmdc_runtime.api.core.auth import get_password_hash\n",
    "\n",
    "rv = mdb.users.replace_one(\n",
    "    {\"username\": \"corilo\"},\n",
    "    {\"username\": \"corilo\", \"hashed_password\": get_password_hash(\"_uXxpH9KRH8bjGE\")},\n",
    "    upsert=True\n",
    ")\n",
    "rv"
   ]
  },
  {
   "cell_type": "markdown",
   "id": "38be0696",
   "metadata": {},
   "source": [
    "# Test operations"
   ]
  },
  {
   "cell_type": "code",
   "execution_count": null,
   "id": "4b3a3e50",
   "metadata": {},
   "outputs": [],
   "source": [
    "from datetime import datetime, timezone, timedelta\n",
    "\n",
    "from nmdc_runtime.api.core.idgen import generate_one_id\n",
    "from nmdc_runtime.api.models.operation import Operation\n",
    "\n",
    "dt_past = datetime.now(timezone.utc) - timedelta(days=1)\n",
    "\n",
    "mdb.operations.insert_one(Operation(id=generate_one_id(mdb, \"op\"), expire_time=dt_past).dict(exclude_unset=True))"
   ]
  },
  {
   "cell_type": "markdown",
   "id": "4bf647b0",
   "metadata": {},
   "source": [
    "# demo e2e workflow job creation via sensor, job claiming, and operation updating to done=true\n",
    "\n",
    "example for demo: metaP metadata ETL"
   ]
  },
  {
   "cell_type": "markdown",
   "id": "0584ecf9",
   "metadata": {},
   "source": [
    "### register objects for existing URLs"
   ]
  },
  {
   "cell_type": "code",
   "execution_count": null,
   "id": "f5963c17",
   "metadata": {},
   "outputs": [],
   "source": [
    "import os\n",
    "import json\n",
    "from pathlib import Path\n",
    "import re\n",
    "from tempfile import TemporaryDirectory\n",
    "\n",
    "import requests\n",
    "\n",
    "from nmdc_runtime.util import drs_metadata_for\n",
    "\n",
    "pattern = re.compile(r\"https?://(?P<domain>[^/]+)/(?P<path>.+)\")\n",
    "\n",
    "def url_to_name(url):\n",
    "    m = pattern.match(url)\n",
    "    return f\"{'.'.join(reversed(m.group('domain').split('.')))}__{m.group('path').replace('/', '.')}\"\n",
    "\n",
    "def download_them_all(to_fetch, dirname):\n",
    "    results = []\n",
    "    for i, spec in enumerate(to_fetch):\n",
    "        url = spec[\"url\"]\n",
    "        name = url_to_name(url)\n",
    "        print(f\"{i+1}/{len(to_fetch)}: fetching {url}\")\n",
    "        rv = requests.get(url)\n",
    "        filename = os.path.join(dirname, name)\n",
    "        print(f\"saving as {filename}\")\n",
    "        with open(filename, \"w\") as f:\n",
    "            json.dump(rv.json(), f)\n",
    "        results.append(dict(**spec, filename=filename))\n",
    "    return results\n",
    "\n",
    "def generate_drsobject_metadata_for(to_fetch):\n",
    "    with TemporaryDirectory() as dirname:\n",
    "        to_fetch = download_them_all(to_fetch, dirname)\n",
    "\n",
    "        drsobjects = []\n",
    "        for i, spec in enumerate(to_fetch):\n",
    "            base = {\n",
    "                \"access_methods\": [{\"access_url\": {\"url\": spec[\"url\"]}}],\n",
    "                \"description\": spec[\"type\"],\n",
    "            }\n",
    "            print(f\"{i+1}/{len(to_fetch)}: generating DrsObject metdata for {spec['url']}\")\n",
    "            drsobjects.append(drs_metadata_for(spec[\"filename\"], base=base))\n",
    "        return drsobjects"
   ]
  },
  {
   "cell_type": "code",
   "execution_count": null,
   "id": "8298400e",
   "metadata": {},
   "outputs": [],
   "source": [
    "to_fetch = [{\n",
    "    # >100MB\n",
    "    \"url\": \"https://portal.nersc.gov/cfs/m3408/meta/stegen_MetaProteomicAnalysis_activity.json\",\n",
    "    \"type\": \"metaproteomics_analysis_activity_set\",\n",
    "}, {\n",
    "    # ~50KB\n",
    "    \"url\": \"https://portal.nersc.gov/cfs/m3408/meta/stegen_emsl_analysis_data_objects.json\",\n",
    "    \"type\": \"data_object_set\"\n",
    "}]"
   ]
  },
  {
   "cell_type": "code",
   "execution_count": null,
   "id": "dd7d2fdb",
   "metadata": {},
   "outputs": [],
   "source": [
    "drsobjects = generate_drsobject_metadata_for(to_fetch)"
   ]
  },
  {
   "cell_type": "code",
   "execution_count": null,
   "id": "56c7f8b3",
   "metadata": {},
   "outputs": [],
   "source": [
    "from nmdc_runtime.api.models.object import DrsObjectIn\n",
    "\n",
    "for o in drsobjects:\n",
    "    DrsObjectIn(**o)"
   ]
  },
  {
   "cell_type": "code",
   "execution_count": null,
   "id": "6bb5f4d3",
   "metadata": {},
   "outputs": [],
   "source": [
    "def json_clean(d, model, exclude_unset=False):\n",
    "    return json.loads(model(**d).json(exclude_unset=exclude_unset))"
   ]
  },
  {
   "cell_type": "code",
   "execution_count": null,
   "id": "e36b9dd3",
   "metadata": {},
   "outputs": [],
   "source": [
    "json_clean(drsobjects[0], DrsObjectIn)"
   ]
  },
  {
   "cell_type": "code",
   "execution_count": null,
   "id": "91c96fc2",
   "metadata": {
    "scrolled": false
   },
   "outputs": [],
   "source": [
    "rv = client.create_object(json_clean(drsobjects[0], DrsObjectIn))\n",
    "rv.content"
   ]
  },
  {
   "cell_type": "code",
   "execution_count": null,
   "id": "eef44178",
   "metadata": {},
   "outputs": [],
   "source": [
    "rv.json()"
   ]
  },
  {
   "cell_type": "code",
   "execution_count": null,
   "id": "b6934d27",
   "metadata": {},
   "outputs": [],
   "source": [
    "rv = client.create_object(json_clean(drsobjects[1], DrsObjectIn))"
   ]
  },
  {
   "cell_type": "code",
   "execution_count": null,
   "id": "01df55e1",
   "metadata": {},
   "outputs": [],
   "source": [
    "rv.json()"
   ]
  },
  {
   "cell_type": "markdown",
   "id": "146586c1",
   "metadata": {},
   "source": [
    "### register object_types for objects"
   ]
  },
  {
   "cell_type": "code",
   "execution_count": null,
   "id": "7de2813a",
   "metadata": {},
   "outputs": [],
   "source": [
    "object_id = \"\"\n",
    "rv = client.request(\"PUT\", f\"/objects/{object_id}/types\", [\"metaproteomics_analysis_activity_set\"])\n",
    "rv.content"
   ]
  },
  {
   "cell_type": "code",
   "execution_count": null,
   "id": "f66eb07c",
   "metadata": {},
   "outputs": [],
   "source": [
    "rv.json()"
   ]
  },
  {
   "cell_type": "markdown",
   "id": "8e8a0c1c",
   "metadata": {},
   "source": [
    "### confirm sensor logic for creating target job, and enable sensor in dagit\n",
    "- [x] sensor: metaproteomics_analysis_activity_ingest\n",
    "- [x] sensor yields run request for configured graph: ensure_job"
   ]
  },
  {
   "cell_type": "markdown",
   "id": "023e7a1e",
   "metadata": {},
   "source": [
    "### job claiming"
   ]
  },
  {
   "cell_type": "code",
   "execution_count": null,
   "id": "257d4d08",
   "metadata": {},
   "outputs": [],
   "source": [
    "# TODO\n",
    "\n",
    "rv = client.request(\"GET\", \"/jobs\")\n",
    "rv.json()"
   ]
  },
  {
   "cell_type": "code",
   "execution_count": null,
   "id": "131b31c8",
   "metadata": {},
   "outputs": [],
   "source": [
    "job_id = \"\"\n",
    "rv = client.claim_job(job_id)"
   ]
  },
  {
   "cell_type": "code",
   "execution_count": null,
   "id": "53c4f1ae",
   "metadata": {},
   "outputs": [],
   "source": [
    "rv.json()"
   ]
  },
  {
   "cell_type": "markdown",
   "id": "f0bfc5c6",
   "metadata": {},
   "source": [
    "### operation updating to done=true"
   ]
  },
  {
   "cell_type": "code",
   "execution_count": null,
   "id": "aee15ee6",
   "metadata": {},
   "outputs": [],
   "source": [
    "rv = client.request(\"GET\", \"/operations\")"
   ]
  },
  {
   "cell_type": "code",
   "execution_count": null,
   "id": "c7097c92",
   "metadata": {},
   "outputs": [],
   "source": [
    "rv.json()"
   ]
  },
  {
   "cell_type": "code",
   "execution_count": null,
   "id": "a7d47a77",
   "metadata": {},
   "outputs": [],
   "source": [
    "# TODO"
   ]
  },
  {
   "cell_type": "markdown",
   "id": "d5155e28",
   "metadata": {},
   "source": [
    "# register mongoexports as DrsObjects\n",
    "\n",
    "The mongoexports at https://portal.nersc.gov/project/m3408/meta/mongoexports/2021-07/"
   ]
  },
  {
   "cell_type": "code",
   "execution_count": null,
   "id": "a30230cc",
   "metadata": {},
   "outputs": [],
   "source": [
    "from pprint import pprint\n",
    "\n",
    "nmdc_db_collection_names = set(nmdc_jsonschema[\"definitions\"][\"Database\"][\"properties\"])\n",
    "nmdc_db_collection_names -= {\n",
    "    # not actually collections\n",
    "    \"activity_set\",\n",
    "    \"nmdc_schema_version\",\n",
    "    \"date_created\",\n",
    "    \"etl_software_version\",\n",
    "}\n",
    "\n",
    "pprint(nmdc_db_collection_names)"
   ]
  },
  {
   "cell_type": "markdown",
   "id": "89b791c4",
   "metadata": {},
   "source": [
    "```bash\n",
    "scp -r dtn01.nersc.gov:/project/projectdirs/m3408/www/meta/mongoexports/2021-07/ \\\n",
    "    /Users/dwinston/nmdc_files/mongoexports/\n",
    "```"
   ]
  },
  {
   "cell_type": "code",
   "execution_count": null,
   "id": "7f12c579",
   "metadata": {},
   "outputs": [],
   "source": [
    "from glob import glob\n",
    "\n",
    "from nmdc_runtime.util import drs_metadata_for\n",
    "import requests\n",
    "from tqdm.notebook import tqdm\n",
    "\n",
    "paths = glob(os.path.expanduser(\"~/nmdc_files/mongoexports/2021-07/*\"))\n",
    "url_base = \"https://portal.nersc.gov/project/m3408/meta/mongoexports/2021-07\"\n",
    "objects = []\n",
    "for path in tqdm(paths):\n",
    "    meta = drs_metadata_for(path)\n",
    "    url = f'{url_base}/{meta[\"name\"]}'\n",
    "    \n",
    "    rv = requests.head(\n",
    "        url, allow_redirects=True, timeout=5, headers={\"Accept-Encoding\": \"gzip;q=0\"}\n",
    "    )\n",
    "    if not rv.status_code == 200:\n",
    "        raise Exception(f\"url {url} not OK\")\n",
    "\n",
    "    try:\n",
    "        size_bytes = int(rv.headers['Content-Length'])\n",
    "    except KeyError:\n",
    "        raise Exception(f\"no content-length response for {url}\")\n",
    "        \n",
    "    if size_bytes != meta[\"size\"]:\n",
    "        raise Exception(f'size of local file {path} ({meta[\"size\"]}) does not match size at {url} ({size_bytes})')\n",
    "    \n",
    "    objects.append(DrsObjectIn(\n",
    "        access_methods=[{\"access_url\": {\"url\": url}}],\n",
    "        **meta\n",
    "    ))"
   ]
  },
  {
   "cell_type": "code",
   "execution_count": null,
   "id": "2bf48c0d",
   "metadata": {},
   "outputs": [],
   "source": [
    "rvs = []\n",
    "for doc in tqdm([json.loads(o.json(exclude_unset=True)) for o in objects]):\n",
    "    rvs.append(client.create_object(doc))"
   ]
  },
  {
   "cell_type": "markdown",
   "id": "6b3bdb4e",
   "metadata": {},
   "source": [
    "# Register a bundle"
   ]
  },
  {
   "cell_type": "code",
   "execution_count": null,
   "id": "9b220db7",
   "metadata": {},
   "outputs": [],
   "source": [
    "# checksum computed over sorted concatenation of the corresponding checksums of its top-level contents\n",
    "# size is cumulative size of contents\n",
    "# created_time must be >= max of contents created_time values\n",
    "\n",
    "from glob import glob\n",
    "import os\n",
    "from pathlib import Path\n",
    "\n",
    "from toolz import dissoc\n",
    "\n",
    "paths = glob(os.path.expanduser(\"~/nmdc_files/mongoexports/2021-07/*\"))\n",
    "names = [Path(p).name for p in paths]\n",
    "bundle_content_objects = [\n",
    "    dissoc(db.objects.find_one(\n",
    "        filter={\"name\": n},\n",
    "        projection=[\"id\", \"name\", \"size\", \"checksums\", \"created_time\"],\n",
    "        sort=[(\"created_time\", -1)]\n",
    "    ), \"_id\")\n",
    "    for n in names\n",
    "]"
   ]
  },
  {
   "cell_type": "code",
   "execution_count": null,
   "id": "eaab9bf2",
   "metadata": {},
   "outputs": [],
   "source": [
    "checksums = [\n",
    "    c[\"checksum\"]\n",
    "    for bco in bundle_content_objects\n",
    "    for c in bco[\"checksums\"]\n",
    "    if c[\"type\"] == \"sha-256\"\n",
    "]\n",
    "if len(checksums) != len(bundle_content_objects):\n",
    "    raise Exception(\"Contents of bundle must have sha-256 checksums to compute bundle checksum\")"
   ]
  },
  {
   "cell_type": "code",
   "execution_count": null,
   "id": "161fe0c3",
   "metadata": {},
   "outputs": [],
   "source": [
    "from nmdc_runtime.api.core.util import hash_from_str\n",
    "\n",
    "checksum = hash_from_str(\"\".join(sorted(checksums)), algo=\"sha256\")"
   ]
  },
  {
   "cell_type": "code",
   "execution_count": null,
   "id": "116da5c0",
   "metadata": {},
   "outputs": [],
   "source": [
    "size = sum(o[\"size\"] for o in bundle_content_objects)"
   ]
  },
  {
   "cell_type": "code",
   "execution_count": null,
   "id": "4d64ccd2",
   "metadata": {},
   "outputs": [],
   "source": [
    "created_time = max(o[\"created_time\"] for o in bundle_content_objects)"
   ]
  },
  {
   "cell_type": "code",
   "execution_count": null,
   "id": "bda84965",
   "metadata": {},
   "outputs": [],
   "source": [
    "checksum, size, created_time"
   ]
  },
  {
   "cell_type": "code",
   "execution_count": null,
   "id": "ad1c80c1",
   "metadata": {},
   "outputs": [],
   "source": [
    "from nmdc_runtime.api.core.util import pick\n",
    "from nmdc_runtime.api.models.object import DrsObjectIn\n",
    "\n",
    "drs_bundle_in = DrsObjectIn(\n",
    "    name=\"2021-07-nmdc-dbexport\",\n",
    "    description=\"bzip2-encoded JSON Lines mongoexports of the NMDC database\",\n",
    "    checksums=[{\"type\": \"sha-256\", \"checksum\": checksum}],\n",
    "    contents=[pick([\"id\", \"name\"], o) for o in bundle_content_objects],\n",
    "    created_time=created_time,\n",
    "    size=size,\n",
    ")"
   ]
  },
  {
   "cell_type": "code",
   "execution_count": null,
   "id": "3d628dd4",
   "metadata": {},
   "outputs": [],
   "source": [
    "import json\n",
    "from pprint import pprint\n",
    "\n",
    "pprint(json.loads(drs_bundle_in.json(exclude_unset=True)))"
   ]
  },
  {
   "cell_type": "code",
   "execution_count": null,
   "id": "7403e412",
   "metadata": {},
   "outputs": [],
   "source": [
    "rv = client.create_object(json.loads(drs_bundle_in.json(exclude_unset=True)))"
   ]
  },
  {
   "cell_type": "code",
   "execution_count": null,
   "id": "f39721b3",
   "metadata": {},
   "outputs": [],
   "source": [
    "rv.json()"
   ]
  },
  {
   "cell_type": "markdown",
   "id": "ba732c9b",
   "metadata": {},
   "source": [
    "# Register objects by S3 upload and access IDs"
   ]
  },
  {
   "cell_type": "code",
   "execution_count": null,
   "id": "da45a692",
   "metadata": {},
   "outputs": [],
   "source": [
    "from pathlib import Path\n",
    "\n",
    "from dagster import build_solid_context\n",
    "from nmdc_runtime.solids.core import local_file_to_api_object as lftao\n",
    "\n",
    "context = build_solid_context(\n",
    "    resources={\"mongo\": mongo, \"runtime_api_site_client\": client}\n",
    ")\n",
    "\n",
    "storage_path = \"../src/data/2021-07-02-study-changes.csv\"\n",
    "\n",
    "\n",
    "def local_file_to_api_object(file_info):\n",
    "    return lftao(context, file_info)\n",
    "\n",
    "obj = local_file_to_api_object({\"storage_path\": storage_path, \"mime_type\": 'text/csv'})\n",
    "\n",
    "doc = db.objects.find_one({\"id\": obj[\"id\"]})\n",
    "assert doc[\"name\"] == Path(storage_path).name"
   ]
  },
  {
   "cell_type": "code",
   "execution_count": null,
   "id": "5addec2b",
   "metadata": {},
   "outputs": [],
   "source": []
  },
  {
   "cell_type": "code",
   "execution_count": null,
   "id": "fa71c6ea",
   "metadata": {},
   "outputs": [],
   "source": []
  },
  {
   "cell_type": "markdown",
   "id": "aff01f75",
   "metadata": {},
   "source": [
    "# Upload object and let sensor-triggered pipeline register object"
   ]
  },
  {
   "cell_type": "code",
   "execution_count": null,
   "id": "10c9b0c4",
   "metadata": {},
   "outputs": [],
   "source": [
    "!echo '{\"hello\": \"donny\"}' > test.json"
   ]
  },
  {
   "cell_type": "code",
   "execution_count": null,
   "id": "b57af2e3",
   "metadata": {},
   "outputs": [],
   "source": [
    "rv = client.put_object_in_site({\"mime_type\": \"application/json\", \"name\": \"test.json\"})"
   ]
  },
  {
   "cell_type": "code",
   "execution_count": null,
   "id": "5d424466",
   "metadata": {},
   "outputs": [],
   "source": [
    "op = rv.json()"
   ]
  },
  {
   "cell_type": "code",
   "execution_count": null,
   "id": "22d3d29d",
   "metadata": {},
   "outputs": [],
   "source": [
    "op"
   ]
  },
  {
   "cell_type": "code",
   "execution_count": null,
   "id": "6b831222",
   "metadata": {},
   "outputs": [],
   "source": [
    "from nmdc_runtime.util import put_object\n",
    "\n",
    "rv = put_object(\"test.json\", op[\"metadata\"][\"url\"])\n",
    "rv"
   ]
  },
  {
   "cell_type": "code",
   "execution_count": null,
   "id": "60eeaf2c",
   "metadata": {},
   "outputs": [],
   "source": [
    "from nmdc_runtime.util import drs_object_in_for\n",
    "\n",
    "result = drs_object_in_for(\"test.json\", op)"
   ]
  },
  {
   "cell_type": "code",
   "execution_count": null,
   "id": "dbf16c30",
   "metadata": {},
   "outputs": [],
   "source": [
    "result"
   ]
  },
  {
   "cell_type": "code",
   "execution_count": null,
   "id": "d1dc14a5",
   "metadata": {},
   "outputs": [],
   "source": [
    "import json\n",
    "from pprint import pprint\n",
    "\n",
    "op_patch = {\"done\": True, \"result\": result}"
   ]
  },
  {
   "cell_type": "code",
   "execution_count": null,
   "id": "385e695b",
   "metadata": {},
   "outputs": [],
   "source": [
    "rv = client.update_operation(op[\"id\"], op_patch)"
   ]
  },
  {
   "cell_type": "code",
   "execution_count": null,
   "id": "feb3fb6b",
   "metadata": {},
   "outputs": [],
   "source": [
    "pprint(rv.json())"
   ]
  },
  {
   "cell_type": "code",
   "execution_count": null,
   "id": "873568ea",
   "metadata": {},
   "outputs": [],
   "source": []
  },
  {
   "cell_type": "code",
   "execution_count": null,
   "id": "1e26ab53",
   "metadata": {},
   "outputs": [],
   "source": []
  },
  {
   "cell_type": "code",
   "execution_count": null,
   "id": "e01273ce",
   "metadata": {},
   "outputs": [],
   "source": []
  },
  {
   "cell_type": "code",
   "execution_count": null,
   "id": "862b11d1",
   "metadata": {},
   "outputs": [],
   "source": []
  },
  {
   "cell_type": "code",
   "execution_count": null,
   "id": "a76eaa77",
   "metadata": {},
   "outputs": [],
   "source": []
  },
  {
   "cell_type": "markdown",
   "id": "fc7c3909",
   "metadata": {},
   "source": [
    "# S3 init"
   ]
  },
  {
   "cell_type": "code",
   "execution_count": null,
   "id": "cd666d40",
   "metadata": {},
   "outputs": [],
   "source": [
    "from functools import lru_cache\n",
    "import os\n",
    "\n",
    "import boto3\n",
    "\n",
    "API_SITE_BUCKET = os.getenv(\"API_SITE_ID\")\n",
    "\n",
    "\n",
    "@lru_cache\n",
    "def get_s3_client():\n",
    "    _session = boto3.session.Session()\n",
    "    return _session.client(\n",
    "        \"s3\",\n",
    "        region_name=os.getenv(\"DO_REGION_NAME\"),\n",
    "        endpoint_url=os.getenv(\"DO_ENDPOINT_URL\"),\n",
    "        aws_access_key_id=os.getenv(\"DO_SPACES_KEY\"),\n",
    "        aws_secret_access_key=os.getenv(\"DO_SPACES_SECRET\"),\n",
    "    )\n",
    "\n",
    "\n",
    "def presigned_url_to_put(\n",
    "    key, client=None, mime_type=None, bucket=API_SITE_BUCKET, expires_in=300\n",
    "):\n",
    "    return client.generate_presigned_url(\n",
    "        ClientMethod=\"put_object\",\n",
    "        Params={\"Bucket\": bucket, \"Key\": key, \"ContentType\": mime_type},\n",
    "        ExpiresIn=expires_in,\n",
    "    )\n",
    "\n",
    "s3client = get_s3_client()\n",
    "\n",
    "response = s3client.list_buckets()\n",
    "for space in response['Buckets']:\n",
    "    print(space['Name'])\n",
    "print(f\"\\nusing Bucket {API_SITE_BUCKET}\\n\")\n",
    "response = s3client.list_objects(Bucket=API_SITE_BUCKET)\n",
    "for obj in response['Contents']:\n",
    "    print(obj['Key'])"
   ]
  },
  {
   "cell_type": "markdown",
   "id": "45270876",
   "metadata": {},
   "source": [
    "# GSP schema  / Cordra stuff\n",
    "\n",
    "Need \"id\" in payload, e.g.:\n",
    "```\n",
    "\"results\": [\n",
    "    {\n",
    "      \"id\": \"test/activity\",\n",
    "      \"type\": \"Schema\",\n",
    "      \"content\": {\n",
    "        \"name\": \"Activity\",\n",
    "        \"schema\": collschemas[\"activity_set\"]\n",
    "      }\n",
    "    }\n",
    "  ]\n",
    "```"
   ]
  },
  {
   "cell_type": "code",
   "execution_count": null,
   "id": "c85f1c6f",
   "metadata": {},
   "outputs": [],
   "source": [
    "from time import time\n",
    "import os\n",
    "\n",
    "tic = time()\n",
    "\n",
    "from dotenv import load_dotenv\n",
    "load_dotenv(os.path.expanduser(\"~/.nmdc_mongo.env\"))"
   ]
  },
  {
   "cell_type": "code",
   "execution_count": null,
   "id": "4c11001d",
   "metadata": {},
   "outputs": [],
   "source": [
    "os.environ[\"NMDC_JSON_SCHEMA_FILE\"] = \"/Users/dwinston/Desktop/nmdc.schema.gsp.json\""
   ]
  },
  {
   "cell_type": "code",
   "execution_count": null,
   "id": "09b228f8",
   "metadata": {},
   "outputs": [],
   "source": [
    "import json\n",
    "import re\n",
    "from toolz import assoc_in, dissoc\n",
    "from zipfile import ZipFile\n",
    "\n",
    "from mongospawn.schema import collschemas_for\n",
    "\n",
    "from nmdc_mongo import (\n",
    "    add_to_db,\n",
    "    correct_metaP_doc,\n",
    "    dbschema,\n",
    "    fetch_and_validate_json,\n",
    "    fetch_conform_and_persist_from_manifest,\n",
    "    fetch_json,\n",
    "    get_db,\n",
    "    reset_database,\n",
    "    snake_case_set_name\n",
    ")"
   ]
  },
  {
   "cell_type": "code",
   "execution_count": null,
   "id": "a7577506",
   "metadata": {},
   "outputs": [],
   "source": [
    "###########################\n",
    "# Adjustments for GSP below\n",
    "###########################\n",
    "\n",
    "defined_object_names = set(dbschema[\"definitions\"])\n",
    "\n",
    "set_for_object_name = {\n",
    "    spec[\"items\"][\"$ref\"].split(\"#/definitions/\")[-1]: set_name\n",
    "    for set_name, spec in dbschema[\"properties\"].items()\n",
    "}\n",
    "\n",
    "existing_set_names = set(dbschema[\"properties\"])\n",
    "\n",
    "for object_without_set in (defined_object_names - set(set_for_object_name.keys())):\n",
    "    proposed_set_name = snake_case_set_name(object_without_set)\n",
    "    if proposed_set_name not in existing_set_names:\n",
    "        dbschema[\"properties\"][proposed_set_name] = {\n",
    "            \"description\": (f\"This property links a database object to the set of\"\n",
    "                            f\" {object_without_set} objects within it.\"),\n",
    "            \"items\": {\"$ref\": f\"#/definitions/{object_without_set}\"},\n",
    "            \"type\": \"array\",\n",
    "        }\n",
    "        \n",
    "dbschema = assoc_in(dbschema, [\"definitions\", \"ControlledTermValue\", \"properties\", \"term\", \"type\"], \"string\")\n",
    "del dbschema[\"definitions\"][\"ControlledTermValue\"][\"properties\"][\"term\"][\"$ref\"]\n",
    "\n",
    "# 'k' not capitalized upstream perhaps. should conform!\n",
    "#dbschema = assoc_in(dbschema, [\"definitions\", \"MetagenomeAssembly\", \"properties\", \"scaf_l_gt50k\", \"type\"], \"number\")"
   ]
  },
  {
   "cell_type": "code",
   "execution_count": null,
   "id": "476c870e",
   "metadata": {},
   "outputs": [],
   "source": [
    "collschemas = collschemas_for(dbschema)\n",
    "\n",
    "# Reconstruct\n",
    "set_for_object_name = {\n",
    "    spec[\"items\"][\"$ref\"].split(\"#/definitions/\")[-1]: set_name\n",
    "    for set_name, spec in dbschema[\"properties\"].items()\n",
    "}"
   ]
  },
  {
   "cell_type": "code",
   "execution_count": null,
   "id": "337b1c37",
   "metadata": {},
   "outputs": [],
   "source": [
    "sorted(collschemas.keys())"
   ]
  },
  {
   "cell_type": "code",
   "execution_count": null,
   "id": "b73f3f93",
   "metadata": {},
   "outputs": [],
   "source": [
    "collschemas[\"biosample_set\"]"
   ]
  },
  {
   "cell_type": "code",
   "execution_count": null,
   "id": "5fc63d13",
   "metadata": {},
   "outputs": [],
   "source": [
    "import requests"
   ]
  },
  {
   "cell_type": "code",
   "execution_count": null,
   "id": "b3f972df",
   "metadata": {},
   "outputs": [],
   "source": [
    "rv = requests.post(\"http://localhost:8080/auth/token\",\n",
    "              {\"grant_type\": \"password\", \"username\": \"admin\", \"password\": \"nmdcrulez\"})"
   ]
  },
  {
   "cell_type": "code",
   "execution_count": null,
   "id": "16e81e7e",
   "metadata": {},
   "outputs": [],
   "source": [
    "rv.json()"
   ]
  },
  {
   "cell_type": "code",
   "execution_count": null,
   "id": "518a119c",
   "metadata": {},
   "outputs": [],
   "source": [
    "auth_header = {\"Authorization\": f'Bearer {rv.json()[\"access_token\"]}'}"
   ]
  },
  {
   "cell_type": "code",
   "execution_count": null,
   "id": "faf849b6",
   "metadata": {},
   "outputs": [],
   "source": [
    "auth_header"
   ]
  },
  {
   "cell_type": "code",
   "execution_count": null,
   "id": "55f60aec",
   "metadata": {},
   "outputs": [],
   "source": [
    "rv = requests.post(\"http://localhost:8080/uploadObjects\", json={\n",
    "    \"results\": [\n",
    "        {\n",
    "          \"type\": \"Schema\",\n",
    "          \"content\": {\n",
    "            \"name\": \"Biosample\",\n",
    "            \"schema\": collschemas[\"biosample_set\"]\n",
    "          }\n",
    "        }\n",
    "      ]\n",
    "}, headers=auth_header)"
   ]
  },
  {
   "cell_type": "code",
   "execution_count": null,
   "id": "e2b73453",
   "metadata": {},
   "outputs": [],
   "source": [
    "rv"
   ]
  },
  {
   "cell_type": "code",
   "execution_count": null,
   "id": "b7cfd0a8",
   "metadata": {},
   "outputs": [],
   "source": [
    "import json\n",
    "with open('/Users/dwinston/Desktop/cordra-upload.json','w') as f:\n",
    "    json.dump({\n",
    "        \"results\": [\n",
    "            {\n",
    "              \"id\": \"test/activity\",\n",
    "              \"type\": \"Schema\",\n",
    "              \"content\": {\n",
    "                \"name\": \"Activity\",\n",
    "                \"schema\": collschemas[\"activity_set\"]\n",
    "              }\n",
    "            }\n",
    "          ]\n",
    "    }, f, indent=2)"
   ]
  },
  {
   "cell_type": "code",
   "execution_count": null,
   "id": "05f6d8b7",
   "metadata": {},
   "outputs": [],
   "source": [
    "import json\n",
    "with open('/Users/dwinston/Desktop/cordra-upload.json','w') as f:\n",
    "    json.dump({\n",
    "        \"results\": [\n",
    "            {\n",
    "              \"id\": \"test/study\",\n",
    "              \"type\": \"Schema\",\n",
    "              \"content\": {\n",
    "                \"name\": \"Study\",\n",
    "                \"schema\": collschemas[\"study_set\"]\n",
    "              }\n",
    "            }\n",
    "          ]\n",
    "    }, f, indent=2)"
   ]
  },
  {
   "cell_type": "code",
   "execution_count": null,
   "id": "6ce72810",
   "metadata": {},
   "outputs": [],
   "source": [
    "rv = requests.get(\"http://localhost:8080/search?query=type:%22Schema%22\", headers=auth_header)"
   ]
  },
  {
   "cell_type": "code",
   "execution_count": null,
   "id": "ddaf01b3",
   "metadata": {},
   "outputs": [],
   "source": [
    "from pprint import pprint\n",
    "\n",
    "template = rv.json()\n",
    "del template[\"pageNum\"]\n",
    "del template[\"pageSize\"]\n",
    "del template[\"size\"]\n",
    "del template[\"results\"][0]\n",
    "del template[\"results\"][0]\n",
    "template[\"results\"][0][\"id\"] = \"test/abcd1234\"\n",
    "template[\"results\"][0][\"content\"][\"name\"] = \"Document2\"\n",
    "template[\"results\"][0][\"content\"][\"schema\"][\"title\"] = \"Document2\"\n",
    "del template[\"results\"][0][\"content\"][\"identifier\"]\n",
    "\n",
    "pprint(template)"
   ]
  },
  {
   "cell_type": "code",
   "execution_count": null,
   "id": "4830a786",
   "metadata": {},
   "outputs": [],
   "source": [
    "import json\n",
    "with open('/Users/dwinston/Desktop/cordra-upload.json','w') as f:\n",
    "    json.dump(template, f, indent=2)"
   ]
  },
  {
   "cell_type": "code",
   "execution_count": null,
   "id": "873ec179",
   "metadata": {},
   "outputs": [],
   "source": [
    "!cat /Users/dwinston/Desktop/cordra-upload.json"
   ]
  },
  {
   "cell_type": "code",
   "execution_count": null,
   "id": "6d1e3897",
   "metadata": {},
   "outputs": [],
   "source": [
    "rv = requests.post(\"http://localhost:8080/uploadObjects\", json=template, headers=auth_header)\n",
    "rv"
   ]
  },
  {
   "cell_type": "code",
   "execution_count": null,
   "id": "d4bb1f87",
   "metadata": {},
   "outputs": [],
   "source": []
  }
 ],
 "metadata": {
  "kernelspec": {
   "display_name": "Python (nmdc-runtime)",
   "language": "python",
   "name": "nmdc-runtime"
  },
  "language_info": {
   "codemirror_mode": {
    "name": "ipython",
    "version": 3
   },
   "file_extension": ".py",
   "mimetype": "text/x-python",
   "name": "python",
   "nbconvert_exporter": "python",
   "pygments_lexer": "ipython3",
   "version": "3.8.8"
  }
 },
 "nbformat": 4,
 "nbformat_minor": 5
}
