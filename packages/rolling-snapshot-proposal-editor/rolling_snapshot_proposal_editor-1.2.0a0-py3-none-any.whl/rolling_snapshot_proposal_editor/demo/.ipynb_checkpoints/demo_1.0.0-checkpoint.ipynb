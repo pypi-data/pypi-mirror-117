{
 "cells": [
  {
   "cell_type": "code",
   "execution_count": null,
   "id": "173f1289-ef2a-4e52-9cf3-fa22c0013da0",
   "metadata": {},
   "outputs": [],
   "source": [
    "import os,glob\n",
    "t = glob.glob('*')\n",
    "if 'tmp' in t:\n",
    "    os.system('rm -R tmp')\n",
    "os.system('mkdir tmp')"
   ]
  },
  {
   "cell_type": "code",
   "execution_count": null,
   "id": "706516f0-b663-46d1-a87d-a57059424f58",
   "metadata": {
    "tags": []
   },
   "outputs": [],
   "source": [
    "##### Example: read Google sheet\n",
    "from rolling_snapshot_proposal_editor.googlesheetreader import GoogleSheetReader\n",
    "CREDENTIAL = '/Users/kbhirombhakdi/Downloads/client_secret_560341155382-s324iuntpd9djf1avojfh6u1e4shu012.apps.googleusercontent.com.json'\n",
    "SCOPES = ['https://www.googleapis.com/auth/spreadsheets.readonly']\n",
    "SHEETID = '1edhJyvh4fLMZKOc2wonOoCCh8UCDkuJV_Wy5D2idme0'\n",
    "RANGENAME = 'test'\n",
    "sheet = GoogleSheetReader(scopes=SCOPES,sheetid=SHEETID,rangename=RANGENAME,credential=CREDENTIAL)\n",
    "sheet.df"
   ]
  },
  {
   "cell_type": "code",
   "execution_count": null,
   "id": "66a4b83f-0035-4340-b329-87a4a96cc1b7",
   "metadata": {
    "tags": []
   },
   "outputs": [],
   "source": [
    "##### Example: removing target + associating visits\n",
    "##### Test note: removing the last target number and its associating visits to check that the code can perform correctly.\n",
    "from rolling_snapshot_proposal_editor.remove_fixed_target import remove_fixed_target\n",
    "propfile = '../ASSETS/PHASE2/Rolling_16682_Week1v1_withsub.prop'\n",
    "outname = './tmp/test.prop'\n",
    "target_number = '9' # target number to be removed\n",
    "json_template = '../ASSETS/JSON_TEMPLATE/fixed_target.json'\n",
    "remove_fixed_target(propfile,target_number,json_template,outname,True)"
   ]
  },
  {
   "cell_type": "code",
   "execution_count": null,
   "id": "5eb22399-adb3-4c3c-b2c8-2819eab245cb",
   "metadata": {
    "tags": []
   },
   "outputs": [],
   "source": [
    "##### Example: removing individual visits without removing the associating target\n",
    "from rolling_snapshot_proposal_editor.remove_visit import remove_visit\n",
    "visits = ['A1','A2','A3'] # visit numbers to be removed\n",
    "for i in visits:\n",
    "    remove_visit(propfile=outname,outname=outname,visitnumber=i)"
   ]
  },
  {
   "cell_type": "code",
   "execution_count": null,
   "id": "f60daf9c-507f-476c-ae2a-b173c28e8979",
   "metadata": {
    "tags": []
   },
   "outputs": [],
   "source": [
    "##### Example: adding new fixed target from a spreadsheet\n",
    "from rolling_snapshot_proposal_editor.googlesheetreader import GoogleSheetReader\n",
    "from rolling_snapshot_proposal_editor.templatehandler import TemplateHandler\n",
    "from rolling_snapshot_proposal_editor.prepare_targetinfo import prepare_targetinfo\n",
    "from rolling_snapshot_proposal_editor.add_fixed_target import add_fixed_target\n",
    "CREDENTIAL = '/Users/kbhirombhakdi/Downloads/client_secret_560341155382-s324iuntpd9djf1avojfh6u1e4shu012.apps.googleusercontent.com.json'\n",
    "SCOPES = ['https://www.googleapis.com/auth/spreadsheets.readonly']\n",
    "SHEETID = '1edhJyvh4fLMZKOc2wonOoCCh8UCDkuJV_Wy5D2idme0'\n",
    "RANGENAME = 'test'\n",
    "spreadsheet_df = GoogleSheetReader(scopes=SCOPES,sheetid=SHEETID,rangename=RANGENAME,credential=CREDENTIAL).df\n",
    "read_spreadsheet_csv = False\n",
    "targetnumber = '99' # target number to be added\n",
    "json_template = TemplateHandler().templatedict['fixed_target']\n",
    "outname = './tmp/test.prop'\n",
    "targetinfo = prepare_targetinfo(spreadsheet=spreadsheet_df,read_spreadsheet_csv=read_spreadsheet_csv,targetnumber=targetnumber,json_template=json_template)\n",
    "add_fixed_target(propfile=outname,targetinfo=targetinfo,outname=outname,line_index=None)"
   ]
  },
  {
   "cell_type": "code",
   "execution_count": null,
   "id": "087cae4e-fc4d-4773-8eb5-72fb4465de17",
   "metadata": {
    "tags": []
   },
   "outputs": [],
   "source": [
    "##### Example: adding new visits using a template\n",
    "from rolling_snapshot_proposal_editor.templatehandler import TemplateHandler\n",
    "from rolling_snapshot_proposal_editor.add_visit import add_visit\n",
    "outname = './tmp/test.prop'\n",
    "visittemplate = TemplateHandler().templatedict['visits_G280']\n",
    "visitnumbers = ['Z1','Z2','Z3'] # visit numbers to be added \n",
    "targetname = 'test' # target name to be added. If target name does not exist in the target list, the script will still run but the error will show up when openning it in APT software.\n",
    "for visitnumber in visitnumbers:\n",
    "    add_visit(propfile=outname,outname=outname,visittemplate=visittemplate,visitnumber=visitnumber,targetname=targetname,line_index=None)"
   ]
  },
  {
   "cell_type": "code",
   "execution_count": null,
   "id": "9456593e-b238-4430-af17-6f6c170a317f",
   "metadata": {},
   "outputs": [],
   "source": []
  },
  {
   "cell_type": "code",
   "execution_count": null,
   "id": "1bc64c76-0e4b-49f7-b5dd-800a58bb56be",
   "metadata": {},
   "outputs": [],
   "source": []
  },
  {
   "cell_type": "code",
   "execution_count": null,
   "id": "53ad62d2-0251-442c-bf65-f8261ffb9de0",
   "metadata": {},
   "outputs": [],
   "source": []
  },
  {
   "cell_type": "code",
   "execution_count": null,
   "id": "7ccb28c6-422a-439b-bbf3-0cb2a17f7255",
   "metadata": {},
   "outputs": [],
   "source": []
  },
  {
   "cell_type": "code",
   "execution_count": null,
   "id": "59e2c020-53da-4034-882d-5b257d7eb584",
   "metadata": {},
   "outputs": [],
   "source": []
  }
 ],
 "metadata": {
  "kernelspec": {
   "display_name": "Python 3",
   "language": "python",
   "name": "python3"
  },
  "language_info": {
   "codemirror_mode": {
    "name": "ipython",
    "version": 3
   },
   "file_extension": ".py",
   "mimetype": "text/x-python",
   "name": "python",
   "nbconvert_exporter": "python",
   "pygments_lexer": "ipython3",
   "version": "3.7.10"
  }
 },
 "nbformat": 4,
 "nbformat_minor": 5
}
