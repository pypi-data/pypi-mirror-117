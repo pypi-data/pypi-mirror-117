{
 "cells": [
  {
   "cell_type": "code",
   "execution_count": 1,
   "metadata": {},
   "outputs": [],
   "source": [
    "from bridget.eddy.footprint import *\n",
    "\n",
    "import pandas as pd\n",
    "import numpy as np\n",
    "from matplotlib import pyplot as plt"
   ]
  },
  {
   "cell_type": "code",
   "execution_count": 2,
   "metadata": {},
   "outputs": [],
   "source": [
    "df = pd.read_csv(\"sampleDataHeader.csv\", sep = \";\")"
   ]
  },
  {
   "cell_type": "markdown",
   "metadata": {},
   "source": [
    "#### Define a function to calculate the RMSE of a calculated variable and the same variable in the TK2 data:\n",
    "Values of -9999 (rounded down) need to be excluded as these numbers are NaN in the TK2 data.\n",
    "\n",
    "Also need to check the input data for these numbers later on!"
   ]
  },
  {
   "cell_type": "code",
   "execution_count": 3,
   "metadata": {},
   "outputs": [],
   "source": [
    "def rmse_calc_tk2(var_calc, var_tk2):\n",
    "    #exclude values equal to -9999.* (NaN in TK2 data)\n",
    "    idx = [i for i, x in enumerate(var_tk2) if int(x) == -9999]\n",
    "    var_tk2 = np.delete(np.array(var_tk2), idx)\n",
    "    var_calc = np.delete(np.array(var_calc), idx)\n",
    "    \n",
    "    #calculate the RMSE\n",
    "    return np.sqrt(((var_calc - var_tk2) ** 2).mean())"
   ]
  },
  {
   "cell_type": "code",
   "execution_count": 4,
   "metadata": {
    "scrolled": true
   },
   "outputs": [
    {
     "data": {
      "text/plain": [
       "2.0410041752081045e-07"
      ]
     },
     "execution_count": 4,
     "metadata": {},
     "output_type": "execute_result"
    }
   ],
   "source": [
    "u_star = u_star_calc(cov_uw=df['Cov(u\\'w\\')[m2/s2]'], cov_vw=df['Cov(v\\'w\\')[m2/s2]'])\n",
    "\n",
    "rmse_calc_tk2(u_star, df['ustar[m/s]'])"
   ]
  },
  {
   "cell_type": "markdown",
   "metadata": {},
   "source": [
    "Calculated u_star is in accordance with the TK2 data with a very low RMSE of 2x10<sup>-7</sup>\n"
   ]
  },
  {
   "cell_type": "code",
   "execution_count": 5,
   "metadata": {},
   "outputs": [
    {
     "data": {
      "text/plain": [
       "14.574819022236122"
      ]
     },
     "execution_count": 5,
     "metadata": {},
     "output_type": "execute_result"
    }
   ],
   "source": [
    "e_w = sat_vapor_pressure_calc(p=df['p_ref[hPa]'], t_air=df['T_ref[deg C]'])\n",
    "rh = relative_humidity_calc(a=df['a[g/m3]'], t_air=df['T_ref[deg C]'], e_w=e_w)\n",
    "e_a = act_vapor_pressure_calc(rh=rh, e_w=e_w)\n",
    "rho = air_density_calc(p=df['p_ref[hPa]'], e_a=e_a, t_air=df['T_ref[deg C]'])\n",
    "c_p = specific_heat_cap_calc(e_a=e_a, p=df['p_ref[hPa]'])\n",
    "hts = sensible_heat_calc(rho=rho, c_p=c_p, cov_wt=df['Cov(w\\'Ts\\')[(m*deg C)/s]'])\n",
    "\n",
    "rmse_calc_tk2(hts, df['HTs[W/m2]'])"
   ]
  },
  {
   "cell_type": "code",
   "execution_count": 6,
   "metadata": {},
   "outputs": [
    {
     "data": {
      "text/plain": [
       "[<matplotlib.lines.Line2D at 0x1774b5aaa90>]"
      ]
     },
     "execution_count": 6,
     "metadata": {},
     "output_type": "execute_result"
    },
    {
     "data": {
      "image/png": "[encoded data removed]",
      "text/plain": [
       "<Figure size 432x288 with 1 Axes>"
      ]
     },
     "metadata": {
      "needs_background": "light"
     },
     "output_type": "display_data"
    }
   ],
   "source": [
    "idx = [i for i, x in enumerate(df['HTs[W/m2]']) if int(x) == -9999]\n",
    "hts_tk2 = np.delete(np.array(df['HTs[W/m2]']), idx)\n",
    "hts_calc = np.delete(np.array(hts), idx)\n",
    "\n",
    "plt.plot(hts_tk2, color = \"blue\")"
   ]
  },
  {
   "cell_type": "code",
   "execution_count": 7,
   "metadata": {},
   "outputs": [
    {
     "data": {
      "text/plain": [
       "[<matplotlib.lines.Line2D at 0x1774b6514e0>]"
      ]
     },
     "execution_count": 7,
     "metadata": {},
     "output_type": "execute_result"
    },
    {
     "data": {
      "image/png": "[encoded data removed]",
      "text/plain": [
       "<Figure size 432x288 with 1 Axes>"
      ]
     },
     "metadata": {
      "needs_background": "light"
     },
     "output_type": "display_data"
    }
   ],
   "source": [
    "plt.plot(hts_calc, color = \"orange\")"
   ]
  },
  {
   "cell_type": "markdown",
   "metadata": {},
   "source": [
    "Calculated HTS is similar to the TK2 data but not perfectly matching.\n",
    "Looks like outliers are removed in the TK2 data (plots) but I don´t know how.\n",
    "Dissimilarities could also origin from the calculation of e_w, rh, e_a, rho or c_p but it is not possible to test these calculations with the TK2 dataset as these values are not present here."
   ]
  },
  {
   "cell_type": "code",
   "execution_count": 8,
   "metadata": {},
   "outputs": [
    {
     "data": {
      "text/plain": [
       "23.321798235667057"
      ]
     },
     "execution_count": 8,
     "metadata": {},
     "output_type": "execute_result"
    }
   ],
   "source": [
    "L = obukhov_length_calc(rho=rho, c_p=c_p, u_star=u_star, t_air=df['Ts[deg C]'], hts=hts)\n",
    "\n",
    "z=2\n",
    "zL=z/L\n",
    "\n",
    "rmse_calc_tk2(zL, df['z/L'])"
   ]
  },
  {
   "cell_type": "code",
   "execution_count": 10,
   "metadata": {},
   "outputs": [
    {
     "data": {
      "text/plain": [
       "[<matplotlib.lines.Line2D at 0x1774d43d2e8>]"
      ]
     },
     "execution_count": 10,
     "metadata": {},
     "output_type": "execute_result"
    },
    {
     "data": {
      "image/png": "[encoded data removed]",
      "text/plain": [
       "<Figure size 432x288 with 1 Axes>"
      ]
     },
     "metadata": {
      "needs_background": "light"
     },
     "output_type": "display_data"
    }
   ],
   "source": [
    "plt.plot(zL, color = \"orange\")"
   ]
  },
  {
   "cell_type": "code",
   "execution_count": 18,
   "metadata": {},
   "outputs": [
    {
     "data": {
      "text/plain": [
       "[<matplotlib.lines.Line2D at 0x1774d609be0>]"
      ]
     },
     "execution_count": 18,
     "metadata": {},
     "output_type": "execute_result"
    },
    {
     "data": {
      "image/png": "[encoded data removed]",
      "text/plain": [
       "<Figure size 432x288 with 1 Axes>"
      ]
     },
     "metadata": {
      "needs_background": "light"
     },
     "output_type": "display_data"
    }
   ],
   "source": [
    "idx_zol = [i for i, x in enumerate(df['z/L']) if int(x) == -9999]\n",
    "zol_tk2 = np.delete(np.array(df['z/L']), idx_zol)\n",
    "    \n",
    "plt.plot(zol_tk2)"
   ]
  },
  {
   "cell_type": "markdown",
   "metadata": {},
   "source": [
    "Obukhov length and z/L are also pretty much in accordance!\n",
    "Measurement height z is not clearly defined (I just assumed 2 m)"
   ]
  }
 ],
 "metadata": {
  "kernelspec": {
   "display_name": "Python 3",
   "language": "python",
   "name": "python3"
  },
  "language_info": {
   "codemirror_mode": {
    "name": "ipython",
    "version": 3
   },
   "file_extension": ".py",
   "mimetype": "text/x-python",
   "name": "python",
   "nbconvert_exporter": "python",
   "pygments_lexer": "ipython3",
   "version": "3.7.3"
  },
  "varInspector": {
   "cols": {
    "lenName": 16,
    "lenType": 16,
    "lenVar": 40
   },
   "kernels_config": {
    "python": {
     "delete_cmd_postfix": "",
     "delete_cmd_prefix": "del ",
     "library": "var_list.py",
     "varRefreshCmd": "print(var_dic_list())"
    },
    "r": {
     "delete_cmd_postfix": ") ",
     "delete_cmd_prefix": "rm(",
     "library": "var_list.r",
     "varRefreshCmd": "cat(var_dic_list()) "
    }
   },
   "types_to_exclude": [
    "module",
    "function",
    "builtin_function_or_method",
    "instance",
    "_Feature"
   ],
   "window_display": false
  }
 },
 "nbformat": 4,
 "nbformat_minor": 4
}
