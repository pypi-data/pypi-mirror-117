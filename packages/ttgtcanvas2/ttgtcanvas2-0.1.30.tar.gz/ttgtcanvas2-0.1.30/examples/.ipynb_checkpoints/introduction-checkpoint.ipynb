{
 "cells": [
  {
   "cell_type": "markdown",
   "metadata": {},
   "source": [
    "# Introduction"
   ]
  },
  {
   "cell_type": "code",
   "execution_count": 1,
   "metadata": {},
   "outputs": [],
   "source": [
    "%load_ext autoreload\n",
    "\n",
    "%autoreload 1"
   ]
  },
  {
   "cell_type": "code",
   "execution_count": 2,
   "metadata": {},
   "outputs": [],
   "source": [
    "\n",
    "import worlds.test as test"
   ]
  },
  {
   "cell_type": "code",
   "execution_count": 3,
   "metadata": {},
   "outputs": [],
   "source": [
    "def check(solve):\n",
    "    maze = test.generate_maze()\n",
    "    bot = maze.bot()\n",
    "    bot.set_trace('red')\n",
    "    solve(bot)\n",
    "    maze.check()\n",
    "    return maze"
   ]
  },
  {
   "cell_type": "code",
   "execution_count": 4,
   "metadata": {},
   "outputs": [
    {
     "data": {
      "application/vnd.jupyter.widget-view+json": {
       "model_id": "0faa9770aedb4780ac107604b0dbead7",
       "version_major": 2,
       "version_minor": 0
      },
      "text/plain": [
       "Maze()"
      ]
     },
     "metadata": {},
     "output_type": "display_data"
    },
    {
     "data": {
      "application/vnd.jupyter.widget-view+json": {
       "model_id": "0faa9770aedb4780ac107604b0dbead7",
       "version_major": 2,
       "version_minor": 0
      },
      "text/plain": [
       "Maze(current_call='{\"method_name\": \"set_succes_msg\", \"params\": [\"\\\\ud83c\\\\udf89 Task Completed\"], \"cb\": \"51629…"
      ]
     },
     "metadata": {},
     "output_type": "display_data"
    }
   ],
   "source": [
    "def u_turn(bot):\n",
    "    bot.turn_left()\n",
    "    bot.turn_left()\n",
    "    \n",
    "def goto_start(bot):\n",
    "    bot.turn_left()\n",
    "    bot.move(bot.x - 1)\n",
    "    u_turn(bot)\n",
    "\n",
    "def goto_row(bot, y):\n",
    "    bot.turn_left()\n",
    "    bot.move(y)\n",
    "        \n",
    "def pick_all(bot):\n",
    "    while bot.object_here():\n",
    "        bot.take()\n",
    "\n",
    "def drop_all(bot):\n",
    "    steps = 0\n",
    "    while bot.carries_object():\n",
    "        bot.put()        \n",
    "        bot.move()\n",
    "        steps +=1\n",
    "    return steps\n",
    "\n",
    "def find_next(bot):\n",
    "    while not bot.object_here() and not bot.at_goal():\n",
    "        bot.move()\n",
    "    return bot.object_here()\n",
    "\n",
    "\n",
    "def solve(bot):\n",
    "    bot.move()\n",
    "    mess = bot.read_message(4)\n",
    "    \n",
    "check(solve)"
   ]
  },
  {
   "cell_type": "code",
   "execution_count": null,
   "metadata": {},
   "outputs": [],
   "source": []
  }
 ],
 "metadata": {
  "kernelspec": {
   "display_name": "Python 3",
   "language": "python",
   "name": "python3"
  },
  "language_info": {
   "codemirror_mode": {
    "name": "ipython",
    "version": 3
   },
   "file_extension": ".py",
   "mimetype": "text/x-python",
   "name": "python",
   "nbconvert_exporter": "python",
   "pygments_lexer": "ipython3",
   "version": "3.8.8"
  }
 },
 "nbformat": 4,
 "nbformat_minor": 4
}
