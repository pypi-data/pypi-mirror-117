{
 "cells": [
  {
   "cell_type": "markdown",
   "id": "31ddbe01-b64b-4d08-ac75-fec13ffac6d6",
   "metadata": {},
   "source": [
    "# Hello Jupytery Auth"
   ]
  },
  {
   "cell_type": "code",
   "execution_count": null,
   "id": "692538eb-4af9-44f7-ad65-1b618a6d55f5",
   "metadata": {},
   "outputs": [],
   "source": []
  }
 ],
 "metadata": {
  "kernelspec": {
   "display_name": "Python 3",
   "language": "python",
   "name": "python3"
  },
  "language_info": {
   "codemirror_mode": {
    "name": "ipython",
    "version": 3
   },
   "file_extension": ".py",
   "mimetype": "text/x-python",
   "name": "python",
   "nbconvert_exporter": "python",
   "pygments_lexer": "ipython3",
   "version": "3.9.4"
  }
 },
 "nbformat": 4,
 "nbformat_minor": 5
}
