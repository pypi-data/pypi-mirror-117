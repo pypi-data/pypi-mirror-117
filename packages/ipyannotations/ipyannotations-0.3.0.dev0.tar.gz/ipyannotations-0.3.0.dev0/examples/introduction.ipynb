{
 "cells": [
  {
   "cell_type": "markdown",
   "id": "b20acec7-4eeb-490c-a36c-03dc77d93991",
   "metadata": {},
   "source": [
    "# Text entity annotation"
   ]
  },
  {
   "cell_type": "markdown",
   "id": "4fe330f1-eaa3-4621-874f-4c6ed6a65ecf",
   "metadata": {},
   "source": [
    "A common task in natural language processing is to extract entities of interest from some text. This may be as simple as extracting the main content of interest from some text that often comes with boilerplate, or involve identifying e.g. place names or personal names.\n",
    "\n",
    "To do this, ipyannotations has a widget called `ipyannotations.text.TextTagger`, which allows you to highlight words, phrases or sentences and assign a class to them.\n",
    "\n",
    "The widget will display any string, including Markdown-formatted text."
   ]
  },
  {
   "cell_type": "code",
   "execution_count": 3,
   "id": "2bdae1cc-09f9-426f-b61f-970473adfbd3",
   "metadata": {},
   "outputs": [
    {
     "data": {
      "application/vnd.jupyter.widget-view+json": {
       "model_id": "d5993006cae54f58bcb441d50cfa4058",
       "version_major": 2,
       "version_minor": 0
      },
      "text/plain": [
       "TextTagger(children=(TextTaggerCore(classes=['MISC', 'PER', 'LOC', 'ORG'], palette=['#8dd3c7', '#ffffb3', '#be…"
      ]
     },
     "metadata": {},
     "output_type": "display_data"
    }
   ],
   "source": [
    "import ipyannotations.text\n",
    "from ipyannotations._doc_utils import recursively_remove_from_dom\n",
    "\n",
    "\n",
    "widget = ipyannotations.text.TextTagger()\n",
    "widget.display(\"This is an example sentence. Try highlighting a word.\")\n",
    "recursively_remove_from_dom(widget)"
   ]
  },
  {
   "cell_type": "markdown",
   "id": "20c3231f-d7a7-4b3d-bb71-1a8dfe1dc60b",
   "metadata": {},
   "source": [
    "The default entity types are `PER` (person), `ORG` (organisation), `LOC` (location), and `MISC` (miscellaneous). These are chosen because they are relatively standard in the Named Entity Recognition research community.\n",
    "\n",
    "To set the classes you are interested in, you can pass them to the widget using the `classes` argument:"
   ]
  },
  {
   "cell_type": "code",
   "execution_count": 5,
   "id": "de0134eb-6b31-470c-b5a8-3d611a1efe83",
   "metadata": {},
   "outputs": [
    {
     "data": {
      "application/vnd.jupyter.widget-view+json": {
       "model_id": "e8bfee51fbdf4f66a90a31dfcde4eb82",
       "version_major": 2,
       "version_minor": 0
      },
      "text/plain": [
       "TextTagger(children=(TextTaggerCore(classes=['Insult', 'Compliment'], palette=['#8dd3c7', '#ffffb3', '#bebada'…"
      ]
     },
     "metadata": {},
     "output_type": "display_data"
    }
   ],
   "source": [
    "import ipyannotations.text\n",
    "\n",
    "widget = ipyannotations.text.TextTagger(classes=[\"Insult\", \"Compliment\"])\n",
    "widget.display(\"You are annoying, but I like you.\")\n",
    "widget\n",
    "recursively_remove_from_dom(widget)"
   ]
  },
  {
   "cell_type": "markdown",
   "id": "a02a8ff4-c50f-4ef7-8e2b-95d81b39cfa0",
   "metadata": {},
   "source": [
    "The widget will snap to word boundaries to make tagging faster. This means you can double-click on a word to tag it."
   ]
  },
  {
   "cell_type": "markdown",
   "id": "3cf3684b-9323-4eab-952c-6eef8dc74374",
   "metadata": {},
   "source": [
    "The format for the annotations takes the form of a three-tuple with types (int, int, str). The integers indicate the starting and ending character of the selected span, and the string indicates the class name."
   ]
  },
  {
   "cell_type": "code",
   "execution_count": 6,
   "id": "9d06a78b-97ef-4751-9e55-d085a2a91eb8",
   "metadata": {},
   "outputs": [
    {
     "data": {
      "text/plain": [
       "[(8, 16, 'Insult'), (22, 32, 'Compliment')]"
      ]
     },
     "execution_count": 6,
     "metadata": {},
     "output_type": "execute_result"
    }
   ],
   "source": [
    "widget.data"
   ]
  },
  {
   "cell_type": "code",
   "execution_count": null,
   "id": "5e60f150-6bac-4855-84a7-6f5379bf2358",
   "metadata": {},
   "outputs": [],
   "source": []
  }
 ],
 "metadata": {
  "kernelspec": {
   "display_name": "Python 3",
   "language": "python",
   "name": "python3"
  },
  "language_info": {
   "codemirror_mode": {
    "name": "ipython",
    "version": 3
   },
   "file_extension": ".py",
   "mimetype": "text/x-python",
   "name": "python",
   "nbconvert_exporter": "python",
   "pygments_lexer": "ipython3",
   "version": "3.9.0"
  }
 },
 "nbformat": 4,
 "nbformat_minor": 5
}
